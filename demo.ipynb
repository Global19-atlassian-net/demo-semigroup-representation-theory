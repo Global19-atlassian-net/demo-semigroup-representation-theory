{
 "cells": [
  {
   "cell_type": "markdown",
   "metadata": {
    "slideshow": {
     "slide_type": "slide"
    }
   },
   "source": [
    "# Use case: modular representation theory of semigroups\n",
    "\n",
    "<img src=\"pictures/banner.png\" align=\"right\" width=\"55%\" style=\"opacity:0.5;filter:alpha(opacity=40);\"/>\n",
    "\n",
    "Nicolas M. Thiéry<br>\n",
    "LRI, Université Paris Sud\n",
    "<br><br><br>\n",
    "\n",
    "Run this live on binder:\n",
    "<a href=\"https://mybinder.org/v2/gh/OpenDreamKit/demo-semigroup-representation-theory/master?filepath=demo.ipynb\">\n",
    "<img src=\"pictures/qrcode.png\" width=\"25%\">\n",
    "</a>\n",
    "\n",
    "<br>\n",
    "\n",
    "<img src=\"pictures/Flag_of_Europe.svg\"   width=\"10%\" align=\"left\">\n",
    "<img src=\"pictures/odk-elected-logo.svg\" width=\"6%\" align=\"right\">\n"
   ]
  },
  {
   "cell_type": "markdown",
   "metadata": {
    "slideshow": {
     "slide_type": "slide"
    }
   },
   "source": [
    "## Scenario\n",
    "\n",
    "Balthazar is starting a PhD in <span class=\"modular\">modular</span> representation theory of <span class=\"semigroup\">semigroups</span>"
   ]
  },
  {
   "cell_type": "markdown",
   "metadata": {
    "slideshow": {
     "slide_type": "fragment"
    }
   },
   "source": [
    "### Mathematical context\n",
    "- Representation theory of groups: a grand old topic; 10k+ papers in a century \n",
    "- Representation theory of the <span class=sym>symmetric group $\\mathfrak{S}_n$</span>: beautiful combinatorics"
   ]
  },
  {
   "cell_type": "markdown",
   "metadata": {
    "slideshow": {
     "slide_type": "fragment"
    }
   },
   "source": [
    "- <span class=modular>Modular</span> representation theory of groups: 1k+ papers in the last 50 years"
   ]
  },
  {
   "cell_type": "markdown",
   "metadata": {
    "slideshow": {
     "slide_type": "fragment"
    }
   },
   "source": [
    "- Representation theory of <span class=semigroup>semigroups</span>: dozens of papers in the last decades"
   ]
  },
  {
   "cell_type": "markdown",
   "metadata": {
    "slideshow": {
     "slide_type": "fragment"
    }
   },
   "source": [
    "- Motto of <span class=semigroup>semigroup theory</span>: reduce to **combinatorics** + **group theory**"
   ]
  },
  {
   "cell_type": "markdown",
   "metadata": {
    "slideshow": {
     "slide_type": "fragment"
    }
   },
   "source": [
    "### Strategy\n",
    "- Implement a algorithm of 2010 in full generality<br>\n",
    "  <span class=semigroup>Computing the Cartan Matrix of a semigroup</span>\n",
    "- Adapt this algorithm to the <span class=modular>modular</modular> case\n",
    "- Explore the representation theory of the <span class=sym>transformation semigroup $T_n$</span><br>\n",
    "  beautiful combinatorics?"
   ]
  },
  {
   "cell_type": "markdown",
   "metadata": {
    "slideshow": {
     "slide_type": "fragment"
    }
   },
   "source": [
    "### Needs\n",
    "- **Program** and **explore**\n",
    "- Take advantage of **all the existing computational tools**"
   ]
  },
  {
   "cell_type": "markdown",
   "metadata": {
    "slideshow": {
     "slide_type": "subslide"
    }
   },
   "source": [
    "## Balthazar's Virtual Research Environment\n",
    "\n",
    "Built from many tools in our toolkit <i class=logo></i>:"
   ]
  },
  {
   "cell_type": "code",
   "execution_count": 1,
   "metadata": {
    "slideshow": {
     "slide_type": "fragment"
    }
   },
   "outputs": [
    {
     "data": {
      "text/html": [
       "\n",
       "<style>\n",
       "  I.logo::before{content:url(./pictures/logo-odk.png)}\n",
       "  .modular {\n",
       "      color: #ff0000;\n",
       "  }\n",
       "  .semigroup {\n",
       "      color: #0000ff;\n",
       "  }\n",
       "  .sym {\n",
       "      color: #009900;\n",
       "  }\n",
       "</style>\n"
      ],
      "text/plain": [
       "<IPython.core.display.HTML object>"
      ]
     },
     "metadata": {},
     "output_type": "display_data"
    }
   ],
   "source": [
    "import sage_annotations\n",
    "from mygap import mygap\n",
    "mygap.LoadPackage(\"Semigroups\");\n",
    "\n",
    "import sage_semigroups\n",
    "import sage_combinat_widgets\n",
    "\n",
    "from   sage_explorer import explore\n",
    "from sage_explorer.sage_explorer import Settings\n",
    "Settings.add_property('cardinality', predicate=Groups().Finite().__contains__)\n",
    "Settings.add_property('conjugacy_classes', predicate=Groups().Finite().__contains__)\n",
    "Settings.add_property('multiplication_table', predicate=Groups().Finite().__contains__)\n",
    "\n",
    "%display unicode_art\n",
    "tensor.symbol = \" ⊗ \"\n",
    "%run style/odk.py"
   ]
  },
  {
   "cell_type": "markdown",
   "metadata": {
    "slideshow": {
     "slide_type": "subslide"
    }
   },
   "source": [
    "### <span class=semigroup>Semigroup theory</a>"
   ]
  },
  {
   "cell_type": "code",
   "execution_count": 2,
   "metadata": {
    "slideshow": {
     "slide_type": "fragment"
    }
   },
   "outputs": [],
   "source": [
    "T5 = mygap.FullTransformationSemigroup(5)"
   ]
  },
  {
   "cell_type": "code",
   "execution_count": 3,
   "metadata": {
    "slideshow": {
     "slide_type": "fragment"
    }
   },
   "outputs": [],
   "source": [
    "T3 = mygap.FullTransformationSemigroup(3)\n",
    "graph = T3.cayley_graph()\n",
    "graph.set_latex_options(format=\"dot2tex\")\n",
    "view(graph)"
   ]
  },
  {
   "cell_type": "code",
   "execution_count": null,
   "metadata": {
    "slideshow": {
     "slide_type": "skip"
    }
   },
   "outputs": [],
   "source": [
    "from francy_widget import FrancyWidget\n",
    "from networkx import DiGraph\n",
    "g = DiGraph()\n",
    "g.add_edges_from([(e[0], e[1]) for e in graph.edges()])\n",
    "FrancyWidget(g)"
   ]
  },
  {
   "cell_type": "code",
   "execution_count": 4,
   "metadata": {
    "slideshow": {
     "slide_type": "fragment"
    }
   },
   "outputs": [
    {
     "data": {
      "text/plain": [
       "3125"
      ]
     },
     "execution_count": 4,
     "metadata": {},
     "output_type": "execute_result"
    }
   ],
   "source": [
    "T5.cardinality()"
   ]
  },
  {
   "cell_type": "code",
   "execution_count": 5,
   "metadata": {
    "slideshow": {
     "slide_type": "fragment"
    }
   },
   "outputs": [
    {
     "name": "stdout",
     "output_type": "stream",
     "text": [
      "<Green's D-class: IdentityTransformation>\n",
      "<Green's D-class: Transformation( [ 1, 2, 3, 4, 1 ] )>\n",
      "<Green's D-class: Transformation( [ 1, 1, 2, 3, 1 ] )>\n",
      "<Green's D-class: Transformation( [ 3, 1, 3, 1, 3 ] )>\n",
      "<Green's D-class: Transformation( [ 1, 1, 1, 1, 1 ] )>\n"
     ]
    }
   ],
   "source": [
    "d_classes = T5.d_classes()\n",
    "for d_class in d_classes:\n",
    "    print(d_class)"
   ]
  },
  {
   "cell_type": "code",
   "execution_count": 6,
   "metadata": {
    "slideshow": {
     "slide_type": "fragment"
    }
   },
   "outputs": [
    {
     "data": {
      "text/plain": [
       "Group([ (1,2,3,4), (1,2) ])"
      ]
     },
     "execution_count": 6,
     "metadata": {},
     "output_type": "execute_result"
    }
   ],
   "source": [
    "G = d_classes[1].schutzenberger_group()\n",
    "G"
   ]
  },
  {
   "cell_type": "markdown",
   "metadata": {
    "slideshow": {
     "slide_type": "subslide"
    }
   },
   "source": [
    "### <span class=modular>Modular representation of groups</span>"
   ]
  },
  {
   "cell_type": "code",
   "execution_count": 7,
   "metadata": {
    "slideshow": {
     "slide_type": "fragment"
    }
   },
   "outputs": [
    {
     "data": {
      "text/plain": [
       "[ (1), (1) ]"
      ]
     },
     "metadata": {},
     "output_type": "display_data"
    },
    {
     "data": {
      "text/plain": [
       "[ (2), (2) ]"
      ]
     },
     "metadata": {},
     "output_type": "display_data"
    },
    {
     "data": {
      "text/plain": [
       "⎡ ⎛2 1 0⎞  ⎛0 0 1⎞ ⎤\n",
       "⎢ ⎜1 1 0⎟  ⎜0 2 0⎟ ⎥\n",
       "⎣ ⎝1 0 1⎠, ⎝1 0 0⎠ ⎦"
      ]
     },
     "metadata": {},
     "output_type": "display_data"
    },
    {
     "data": {
      "text/plain": [
       "⎡ ⎛2 1 1⎞  ⎛0 1 1⎞ ⎤\n",
       "⎢ ⎜0 0 1⎟  ⎜1 0 2⎟ ⎥\n",
       "⎣ ⎝2 0 0⎠, ⎝0 0 1⎠ ⎦"
      ]
     },
     "metadata": {},
     "output_type": "display_data"
    }
   ],
   "source": [
    "reps = G.irreducible_representations(GF(3))\n",
    "for rho in reps:\n",
    "    display([matrix(rho(g).gap()) for g in G.group_generators()])"
   ]
  },
  {
   "cell_type": "code",
   "execution_count": 8,
   "metadata": {
    "slideshow": {
     "slide_type": "fragment"
    }
   },
   "outputs": [
    {
     "data": {
      "text/plain": [
       "True"
      ]
     },
     "execution_count": 8,
     "metadata": {},
     "output_type": "execute_result"
    }
   ],
   "source": [
    "all( [ rho(g)*rho(h) == rho(g*h) for g in G for h in G ] )"
   ]
  },
  {
   "cell_type": "markdown",
   "metadata": {
    "slideshow": {
     "slide_type": "slide"
    }
   },
   "source": [
    "## Why is that impressive?\n"
   ]
  },
  {
   "cell_type": "markdown",
   "metadata": {
    "slideshow": {
     "slide_type": "fragment"
    }
   },
   "source": [
    "### Diving behind the scene\n",
    "- Sage uses GAP for groups"
   ]
  },
  {
   "cell_type": "markdown",
   "metadata": {
    "slideshow": {
     "slide_type": "fragment"
    }
   },
   "source": [
    "- <span class=modular>GAP uses MeatAxe (C library)</span><br>\n",
    "  parallelism of MeatAxe64 <i class=\"logo\"></i>"
   ]
  },
  {
   "cell_type": "markdown",
   "metadata": {
    "slideshow": {
     "slide_type": "fragment"
    }
   },
   "source": [
    "- Sage uses GAP's <span class=semigroup>Semigroup packages for semigroups</span><br>\n",
    "  J. Mitchell et al."
   ]
  },
  {
   "cell_type": "markdown",
   "metadata": {
    "slideshow": {
     "slide_type": "fragment"
    }
   },
   "source": [
    "- <span class=semigroup>Semigroups uses libsemigroups (C++ library)</span><br>\n",
    "  J. Mitchell, inspired by Semigroupe of J.-E. Pin"
   ]
  },
  {
   "cell_type": "markdown",
   "metadata": {
    "slideshow": {
     "slide_type": "fragment"
    }
   },
   "source": [
    "- libsemigroups uses HPC Combi <i class=\"logo\"></i><br>\n",
    "  F. Hivert <i class=\"logo\"></i>, with feedback from J. Mitchell"
   ]
  },
  {
   "cell_type": "markdown",
   "metadata": {
    "slideshow": {
     "slide_type": "subslide"
    }
   },
   "source": [
    "### Low level interface to GAP: libgap\n",
    "One of ODK case studies for interfacing with other systems\n",
    "\n",
    "- libgap used to be a fragile hard to maintain fork of GAP<br>\n",
    "  Volker Braun\n",
    "  \n",
    "- libgap is now a standard feature of GAP<br>\n",
    "  M. Horn, A. Konovalov <i class=\"logo\"></i>, M. Pfeiffer <i class=\"logo\"></i>, J. Demeyer <i class=\"logo\"></i>, E. M. Bray <i class=\"logo\"></i>, N. Thiéry <i class=\"logo\"></i>, D. Pasechnik<i class=logo></i><br>\n",
    "  GAP-Sage Days 2016, 2017, 2018\n",
    "\n",
    "- Made possible by GAP's build system refactoring<br>\n",
    "  M. Horn, A. Konovalov <i class=\"logo\"></i>, ...\n",
    "\n",
    "- A major step for sustainable packaging of GAP and Sage"
   ]
  },
  {
   "cell_type": "markdown",
   "metadata": {
    "slideshow": {
     "slide_type": "subslide"
    }
   },
   "source": [
    "### <span class=semigroup>libsemigroups</a>\n",
    "\n",
    "One of ODK case study for extracting independent low-level libraries C++\n",
    "\n",
    "- libsemigroups API design:<br>\n",
    "  J. Mitchell with F. Hivert and  N. Thiéry: Cernay 2017, 2018\n",
    "\n",
    "- libsemigroups Python bindings<br>\n",
    "  J. Mitchell and  N. Thiéry <i class=\"logo\"></i>: Edinburgh, 2017, Cernay 2017, 2018\n",
    "\n",
    "- libsemibroups usable directly in Jupyter thanks to xeus-cling<br>\n",
    "  S. Corlay, J. Mabile, L. Gouarin <i class=\"logo\"></i>\n",
    "\n",
    "- libsemigroups packaging<br>\n",
    "  J. Mitchell and  N. Thiéry <i class=\"logo\"></i>: Jupyter for Mathematics Workshop, Edinburgh, 2017"
   ]
  },
  {
   "cell_type": "markdown",
   "metadata": {
    "slideshow": {
     "slide_type": "subslide"
    }
   },
   "source": [
    "### Sage-GAP lightweight Math-in-the-Middle interface\n"
   ]
  },
  {
   "cell_type": "markdown",
   "metadata": {
    "slideshow": {
     "slide_type": "fragment"
    }
   },
   "source": [
    "#### In action"
   ]
  },
  {
   "cell_type": "code",
   "execution_count": 9,
   "metadata": {
    "slideshow": {
     "slide_type": "fragment"
    }
   },
   "outputs": [
    {
     "data": {
      "text/plain": [
       "Algebra of <full transformation monoid of degree 5> over Rational Field"
      ]
     },
     "execution_count": 9,
     "metadata": {},
     "output_type": "execute_result"
    }
   ],
   "source": [
    "A = T5.algebra(QQ); A"
   ]
  },
  {
   "cell_type": "code",
   "execution_count": 10,
   "metadata": {
    "slideshow": {
     "slide_type": "fragment"
    }
   },
   "outputs": [
    {
     "data": {
      "text/plain": [
       "58*B                                    + 74*\n",
       "    Transformation( [ 4, 5, 1, 2, 3 ] )      \n",
       "\n",
       "B                                    + 72*B                                   \n",
       " Transformation( [ 3, 4, 5, 1, 2 ] )       Transformation( [ 2, 3, 4, 5, 1 ] )\n",
       "\n",
       " + 76*1 + 63*B\n",
       "              Transformation( [ 5, 1, 2, 3, 4 ] )"
      ]
     },
     "execution_count": 10,
     "metadata": {},
     "output_type": "execute_result"
    }
   ],
   "source": [
    "A.an_element() ^ 3"
   ]
  },
  {
   "cell_type": "markdown",
   "metadata": {
    "slideshow": {
     "slide_type": "fragment"
    }
   },
   "source": [
    "#### How it works\n",
    "- Enriched libgap handles with\n",
    "- Semantic carried over using\n",
    "- Alignments provided as annotations\n",
    "```python\n",
    "    @semantic(mmt=\"Group\", variant=\"multiplicative\")\n",
    "    class Groups:\n",
    "\n",
    "        class ParentMethods:\n",
    "\n",
    "            @semantic(gap=\"GeneratorsOfGroup\", codomain=Family[Self])\n",
    "            @abstract_method\n",
    "            def group_generators(self):\n",
    "                pass\n",
    "```"
   ]
  },
  {
   "cell_type": "markdown",
   "metadata": {
    "slideshow": {
     "slide_type": "slide"
    }
   },
   "source": [
    "## That's not all! <i class=\"logo\"></i>"
   ]
  },
  {
   "cell_type": "code",
   "execution_count": 11,
   "metadata": {
    "scrolled": false,
    "slideshow": {
     "slide_type": "fragment"
    }
   },
   "outputs": [
    {
     "data": {
      "application/vnd.jupyter.widget-view+json": {
       "model_id": "cd025de1cdc44b229e507dec26834e29",
       "version_major": 2,
       "version_minor": 0
      },
      "text/plain": [
       "SageExplorer(children=(VBox(children=(ExplorerTitle(children=(MathTitle(value='Exploring: Group([ (1,2,3,4), (…"
      ]
     },
     "metadata": {},
     "output_type": "display_data"
    }
   ],
   "source": [
    "explore(G)"
   ]
  },
  {
   "cell_type": "markdown",
   "metadata": {
    "slideshow": {
     "slide_type": "subslide"
    }
   },
   "source": [
    "### <span class=sym>Combinatorial Representation Theory of $\\mathfrak S_n$</sym>"
   ]
  },
  {
   "cell_type": "code",
   "execution_count": 12,
   "metadata": {
    "slideshow": {
     "slide_type": "fragment"
    }
   },
   "outputs": [
    {
     "data": {
      "text/plain": [
       "┌───┬───┬───┬────┐\n",
       "│ 1 │ 3 │ 6 │ 10 │\n",
       "├───┼───┼───┴────┘\n",
       "│ 2 │ 5 │\n",
       "├───┼───┤\n",
       "│ 4 │ 9 │\n",
       "├───┼───┘\n",
       "│ 7 │\n",
       "├───┤\n",
       "│ 8 │\n",
       "└───┘"
      ]
     },
     "execution_count": 12,
     "metadata": {},
     "output_type": "execute_result"
    }
   ],
   "source": [
    "StandardTableaux(10).random_element()"
   ]
  },
  {
   "cell_type": "code",
   "execution_count": 13,
   "metadata": {
    "slideshow": {
     "slide_type": "fragment"
    }
   },
   "outputs": [],
   "source": [
    "Sym = SymmetricFunctions(QQ['t']);\n",
    "s = Sym.s()"
   ]
  },
  {
   "cell_type": "code",
   "execution_count": 15,
   "metadata": {
    "slideshow": {
     "slide_type": "fragment"
    }
   },
   "outputs": [
    {
     "data": {
      "text/plain": [
       "1 ⊗ s     + s   ⊗ s    + s   ⊗ s     + s   ⊗ s    + s    ⊗ s   + s    ⊗ s    + \n",
       "     ┌┬┬┐    ┌┐    ┌┬┐    ┌┐    ┌┬┬┐    ┌┐    ┌┬┐    ┌┬┐    ┌┐    ┌┬┐    ┌┬┐   \n",
       "     ├┼┴┘    └┘    ├┼┘    └┘    └┴┴┘    ├┤    └┴┘    └┴┘    ├┤    └┴┘    └┴┘   \n",
       "     └┘            └┘                   └┘                  └┘                 \n",
       "\n",
       "s    ⊗ s   + s     ⊗ s   + s     ⊗ 1\n",
       " ┌┬┐    ┌┐    ┌┬┬┐    ┌┐    ┌┬┬┐   \n",
       " ├┼┘    └┘    └┴┴┘    └┘    ├┼┴┘   \n",
       " └┘                         └┘     "
      ]
     },
     "execution_count": 15,
     "metadata": {},
     "output_type": "execute_result"
    }
   ],
   "source": [
    "s[3,1].coproduct()"
   ]
  },
  {
   "cell_type": "code",
   "execution_count": 16,
   "metadata": {
    "slideshow": {
     "slide_type": "fragment"
    }
   },
   "outputs": [
    {
     "data": {
      "application/vnd.jupyter.widget-view+json": {
       "model_id": "cdd72893fafb4a59a2e5d0c66ac868a0",
       "version_major": 2,
       "version_minor": 0
      },
      "text/plain": [
       "Interactive function <function f at 0x7fe269543950> with 1 widget\n",
       "  p1: GridViewWidget(value=[2, 1], children=…"
      ]
     },
     "metadata": {},
     "output_type": "display_data"
    }
   ],
   "source": [
    "@interact\n",
    "def f(p1 = Partition([2,1])._widget_()):\n",
    "      return s[p1].coproduct()"
   ]
  },
  {
   "cell_type": "markdown",
   "metadata": {
    "slideshow": {
     "slide_type": "subslide"
    }
   },
   "source": [
    "### <span class=modular>Modular</span> combinatorial representation theory of <span class=sym>$\\mathfrak S_n$</a>"
   ]
  },
  {
   "cell_type": "code",
   "execution_count": 17,
   "metadata": {
    "slideshow": {
     "slide_type": "fragment"
    }
   },
   "outputs": [
    {
     "data": {
      "text/plain": [
       "⎡   .  .  0  0  0    .  .  1  0  0    .  .  0  0  0 ⎤\n",
       "⎢   .  0  0  2       .  0  0  0       .  1  0  1    ⎥\n",
       "⎣   1  0  1      ,   1  0  2      ,   2  0  0       ⎦"
      ]
     },
     "execution_count": 17,
     "metadata": {},
     "output_type": "execute_result"
    }
   ],
   "source": [
    "list(RibbonTableaux([[5,4,3],[2,1]], [2,1], 3))"
   ]
  },
  {
   "cell_type": "code",
   "execution_count": 18,
   "metadata": {
    "slideshow": {
     "slide_type": "fragment"
    }
   },
   "outputs": [
    {
     "data": {
      "text/plain": [
       "level 3 LLT polynomials over Univariate Polynomial Ring in t over Rational Field"
      ]
     },
     "execution_count": 18,
     "metadata": {},
     "output_type": "execute_result"
    }
   ],
   "source": [
    "Sym.llt(3)"
   ]
  },
  {
   "cell_type": "markdown",
   "metadata": {
    "slideshow": {
     "slide_type": "slide"
    }
   },
   "source": [
    "## Really, why is that impressive?\n",
    "Balthazar has at his fingertips the **best computational tools** developed by **different math communities**, all from a **single Virtual Research Environment**:\n",
    "- <span class=modular>Modular representation theory of groups</span>\n",
    "- <span class=sym>Combinatorial Representation theory</span>\n",
    "- <span class=semigroup>Semigroup theory</span>\n",
    "- Algebraic Combinatorics\n",
    "\n",
    "And:\n",
    "\n",
    "- Experimental code from his research group\n",
    "- His own code"
   ]
  },
  {
   "cell_type": "markdown",
   "metadata": {
    "slideshow": {
     "slide_type": "subslide"
    }
   },
   "source": [
    "### For 20 years, I had been dreaming of this ...<br> <center>And my students too!</center>\n",
    "\n",
    "<table>\n",
    "    <tr>\n",
    "        <td><img src=\"pictures/isil.jpg\" width=170></td>\n",
    "        <td><img src=\"pictures/borie.jpg\" width=170></td>\n",
    "        <td><img src=\"pictures/denton.jpg\" width=170></td>\n",
    "        <td><img src=\"pictures/virmaux.jpg\" width=200></td>\n",
    "        <td><img src=\"pictures/falque.jpg\" width=160></td>\n",
    "        <td><img src=\"pictures/hubert.png\" width=160></td>\n",
    "        <td><img src=\"pictures/charles.jpg\" width=150></td>\n",
    "    </tr>\n",
    "</table>"
   ]
  },
  {
   "cell_type": "markdown",
   "metadata": {
    "slideshow": {
     "slide_type": "fragment"
    }
   },
   "source": [
    "Hurdles:\n",
    "- Nicolas ~2000: no group theory and combinatorics and computer algebra under the same roof\n",
    "- Nicolas 2009-2012: Sage! But interface to GAP so slow ...\n",
    "- Tom 2009-2012 and Aladin 2012-2015: Semigroup not available in Sage $\\Longrightarrow$ lots of reimplementation in Sage\n",
    "- Justine ~2018: lack of flexible enough interface $\\Longrightarrow$ hopping back and forth between GAP and Sage\n",
    "- Justine and Pauline ~2016-2019: advisor busy with EU grant ..."
   ]
  },
  {
   "cell_type": "markdown",
   "metadata": {
    "slideshow": {
     "slide_type": "slide"
    }
   },
   "source": [
    "## Thanks to <i class=\"logo\"></i> WP6\n",
    "Balthazar can:\n",
    "- easily **record** and **reuse** data he computes (e.g. character tables, ...)<br>\n",
    "  py-persist, Memoize\n",
    "- **document** it with metadata\n",
    "- **publish** it online, e.g. on http://data.mathhub.info !"
   ]
  },
  {
   "cell_type": "markdown",
   "metadata": {
    "slideshow": {
     "slide_type": "subslide"
    }
   },
   "source": [
    "## Thanks to training, <i class=\"logo\"></i> WP2\n",
    "Balthazar can use his **Basic Lab Skills** to:\n",
    "- Prepare **proper computational logbooks**\n",
    "\n",
    "- **Track** his work with version control (nbdime <i class=\"logo\"></i>)\n",
    "\n",
    "- Turn his notebooks into slideshows\n",
    "\n",
    "- **Publish** his work on a public repository, e.g. on [GitHub](github.com://OpenDreamKit/demo-semigroup-representation-theory/)\n",
    "\n",
    "- Document the software dependencies, e.g. as a [Dockerfile](./Dockerfile)\n",
    "\n",
    "- Make it easy for others to **reuse** and **reproduce**, e.g. on  [Binder](https://mybinder.org/v2/gh/OpenDreamKit/demo-semigroup-representation-theory/master?filepath=demo.ipynb)\n",
    "\n",
    "- Run his computations elsewhere, e.g. on a <a href=\"https://review-vre.opendreamkit.org\">powerful VRE</a>\n",
    "\n",
    "- Use **live-collaboration** <i class=\"logo\"></i>, e.g. to get help from his advisor!"
   ]
  },
  {
   "cell_type": "markdown",
   "metadata": {
    "slideshow": {
     "slide_type": "subslide"
    }
   },
   "source": [
    "## Enabled by <i class=logo></i> WP3\n",
    "Modularity, ease of installation and deployment, sustainability:\n",
    "- Packaging in Docker, Debian, Conda<br>\n",
    "  E. Bray <i class=\"logo\"></i>, J Rüth <i class=\"logo\"></i>, et al. et al. <br>\n",
    "  Cernay 2016, 2017, 2019\n",
    "- Ease to install packages in GAP: GAP's PackageManager<br>\n",
    "  Michael Torpey <i class=\"logo\"></i>\n",
    "- Integration in Sage of libsemigroups and Semigroups<br>\n",
    "  D. Paseshnik <i class=\"logo\"></i> et al.\n",
    "- Ease of authoring and distributing packages for Sage<br>\n",
    "  Sage package repository with pip (<i class=logo></i> et al.)<br>\n",
    "  Examples: sage-annotations <i class=\"logo\"></i>, sage-explorer <i class=\"logo\"></i>, sage-combinat-widgets <i class=\"logo\"></i>, sage-gap-semantic interface <i class=\"logo\"></i>, sage-semigroups<br>\n",
    "  N. Thiéry <i class=\"logo\"></i>, O. Bénassy <i class=\"logo\"></i> et al.\n",
    "- Migration to Python 3<br>\n",
    "  F. Chapoton, E. Bray <i class=\"logo\"></i>, D. Paseshnik <i class=\"logo\"></i>, J Demeyer <i class=\"logo\"></i>, ..."
   ]
  },
  {
   "cell_type": "markdown",
   "metadata": {
    "slideshow": {
     "slide_type": "subslide"
    }
   },
   "source": [
    "## Thanks to community building, <i class=\"logo\"></i> WP2\n",
    "\n",
    "<br><br>\n",
    "\n",
    "<center><strong>Balthazar is part of a diverse and supportive community</strong></center>\n",
    "\n",
    "<br>\n",
    "\n",
    "<img src=\"pictures/banner.png\" align=\"right\" width=\"55%\" style=\"opacity:0.5;filter:alpha(opacity=40);\"/>\n"
   ]
  }
 ],
 "metadata": {
  "celltoolbar": "Diaporama",
  "kernelspec": {
   "display_name": "SageMath 8.9.beta7",
   "language": "sage",
   "name": "sagemath"
  },
  "language_info": {
   "codemirror_mode": {
    "name": "ipython",
    "version": 3
   },
   "file_extension": ".py",
   "mimetype": "text/x-python",
   "name": "python",
   "nbconvert_exporter": "python",
   "pygments_lexer": "ipython3",
   "version": "3.7.3"
  },
  "rise": {
   "auto_select": "first",
   "autolaunch": true,
   "background-image": "linear-gradient(rgba(255, 255, 255, 0.9), rgba(255, 255, 255, 0.9)), url(../../../public/images/banner.png);",
   "scroll": true,
   "start_slideshow_at": "selected",
   "transition": "none"
  },
  "toc": {
   "base_numbering": 1,
   "nav_menu": {},
   "number_sections": true,
   "sideBar": true,
   "skip_h1_title": true,
   "title_cell": "Table of Contents",
   "title_sidebar": "Contents",
   "toc_cell": false,
   "toc_position": {},
   "toc_section_display": true,
   "toc_window_display": false
  },
  "varInspector": {
   "cols": {
    "lenName": 16,
    "lenType": 16,
    "lenVar": 40
   },
   "kernels_config": {
    "python": {
     "delete_cmd_postfix": "",
     "delete_cmd_prefix": "del ",
     "library": "var_list.py",
     "varRefreshCmd": "print(var_dic_list())"
    },
    "r": {
     "delete_cmd_postfix": ") ",
     "delete_cmd_prefix": "rm(",
     "library": "var_list.r",
     "varRefreshCmd": "cat(var_dic_list()) "
    }
   },
   "types_to_exclude": [
    "module",
    "function",
    "builtin_function_or_method",
    "instance",
    "_Feature"
   ],
   "window_display": false
  }
 },
 "nbformat": 4,
 "nbformat_minor": 2
}
