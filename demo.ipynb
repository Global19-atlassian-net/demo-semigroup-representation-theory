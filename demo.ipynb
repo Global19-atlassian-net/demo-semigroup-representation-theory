{
 "cells": [
  {
   "cell_type": "markdown",
   "metadata": {
    "slideshow": {
     "slide_type": "slide"
    }
   },
   "source": [
    "# Use case: modular representation theory of semigroups\n",
    "\n",
    "<img src=\"pictures/banner.png\" align=\"right\" width=\"55%\" style=\"opacity:0.5;filter:alpha(opacity=40);\"/>\n",
    "\n",
    "Nicolas M. Thiéry<br>\n",
    "LRI, Université Paris Sud\n",
    "<br><br><br>\n",
    "\n",
    "Run this live on binder:\n",
    "<a href=\"https://mybinder.org/v2/gh/OpenDreamKit/demo-semigroup-representation-theory/master?filepath=demo.ipynb\">\n",
    "<img src=\"pictures/qrcode.png\" width=\"25%\">\n",
    "</a>\n",
    "\n",
    "<br>\n",
    "\n",
    "<img src=\"pictures/Flag_of_Europe.svg\"   width=\"10%\" align=\"left\">\n",
    "<img src=\"pictures/odk-elected-logo.svg\" width=\"6%\" align=\"right\">\n"
   ]
  },
  {
   "cell_type": "markdown",
   "metadata": {
    "slideshow": {
     "slide_type": "slide"
    }
   },
   "source": [
    "## Scenario\n",
    "\n",
    "Balthazar is starting a PhD in <span class=\"modular\">modular</span> representation theory of <span class=\"semigroup\">semigroups</span>"
   ]
  },
  {
   "cell_type": "markdown",
   "metadata": {
    "slideshow": {
     "slide_type": "fragment"
    }
   },
   "source": [
    "### Mathematical context\n",
    "- Representation theory of groups: a grand old topic; 10k+ papers in a century \n",
    "- Representation theory of the <span class=sym>symmetric group $\\mathfrak{S}_n$</span>: beautiful combinatorics"
   ]
  },
  {
   "cell_type": "markdown",
   "metadata": {
    "slideshow": {
     "slide_type": "fragment"
    }
   },
   "source": [
    "- <span class=modular>Modular</span> representation theory of groups: 1k+ papers in the last 50 years"
   ]
  },
  {
   "cell_type": "markdown",
   "metadata": {
    "slideshow": {
     "slide_type": "fragment"
    }
   },
   "source": [
    "- Representation theory of <span class=semigroup>semigroups</span>: dozens of papers in the last decades"
   ]
  },
  {
   "cell_type": "markdown",
   "metadata": {
    "slideshow": {
     "slide_type": "fragment"
    }
   },
   "source": [
    "- Motto of <span class=semigroup>semigroup theory</span>: reduce to **combinatorics** + **group theory**"
   ]
  },
  {
   "cell_type": "markdown",
   "metadata": {
    "slideshow": {
     "slide_type": "fragment"
    }
   },
   "source": [
    "### Strategy\n",
    "- Implement a algorithm of 2010 in full generality<br>\n",
    "  <span class=semigroup>Computing the Cartan Matrix of a semigroup</span>\n",
    "- Adapt this algorithm to the <span class=modular>modular</modular> case\n",
    "- Explore the representation theory of the <span class=sym>transformation semigroup $T_n$</span><br>\n",
    "  beautiful combinatorics?"
   ]
  },
  {
   "cell_type": "markdown",
   "metadata": {
    "slideshow": {
     "slide_type": "fragment"
    }
   },
   "source": [
    "### Needs\n",
    "- **Program** and **explore**\n",
    "- Take advantage of **all the existing computational tools**"
   ]
  },
  {
   "cell_type": "markdown",
   "metadata": {
    "slideshow": {
     "slide_type": "subslide"
    }
   },
   "source": [
    "## Balthazar's Virtual Research Environment\n",
    "\n",
    "Built from many tools in our toolkit <i class=logo></i>:"
   ]
  },
  {
   "cell_type": "code",
   "execution_count": 1,
   "metadata": {
    "slideshow": {
     "slide_type": "fragment"
    }
   },
   "outputs": [
    {
     "data": {
      "text/html": [
       "\n",
       "<style>\n",
       "  I.logo::before{content:url(./pictures/logo-odk.png)}\n",
       "  .modular {\n",
       "      color: #ff0000;\n",
       "  }\n",
       "  .semigroup {\n",
       "      color: #0000ff;\n",
       "  }\n",
       "  .sym {\n",
       "      color: #009900;\n",
       "  }\n",
       "</style>\n"
      ],
      "text/plain": [
       "<IPython.core.display.HTML object>"
      ]
     },
     "metadata": {},
     "output_type": "display_data"
    }
   ],
   "source": [
    "import sage_annotations\n",
    "from mygap import mygap\n",
    "mygap.LoadPackage(\"Semigroups\");\n",
    "\n",
    "import sage_semigroups\n",
    "import sage_combinat_widgets\n",
    "\n",
    "from   sage_explorer import explore\n",
    "from sage_explorer.sage_explorer import Settings\n",
    "Settings.add_property('cardinality', predicate=Groups().Finite().__contains__)\n",
    "Settings.add_property('conjugacy_classes', predicate=Groups().Finite().__contains__)\n",
    "Settings.add_property('multiplication_table', predicate=Groups().Finite().__contains__)\n",
    "\n",
    "%display unicode_art\n",
    "tensor.symbol = \" ⊗ \"\n",
    "%run style/odk.py"
   ]
  },
  {
   "cell_type": "markdown",
   "metadata": {
    "slideshow": {
     "slide_type": "subslide"
    }
   },
   "source": [
    "### <span class=semigroup>Semigroup theory</a>"
   ]
  },
  {
   "cell_type": "code",
   "execution_count": null,
   "metadata": {
    "slideshow": {
     "slide_type": "fragment"
    }
   },
   "outputs": [],
   "source": [
    "T5 = mygap.FullTransformationSemigroup(5)"
   ]
  },
  {
   "cell_type": "code",
   "execution_count": null,
   "metadata": {
    "slideshow": {
     "slide_type": "fragment"
    }
   },
   "outputs": [],
   "source": [
    "T3 = mygap.FullTransformationSemigroup(3)\n",
    "graph = T3.cayley_graph()\n",
    "graph.set_latex_options(format=\"dot2tex\")\n",
    "view(graph)"
   ]
  },
  {
   "cell_type": "code",
   "execution_count": null,
   "metadata": {
    "slideshow": {
     "slide_type": "skip"
    }
   },
   "outputs": [],
   "source": [
    "from francy_widget import FrancyWidget\n",
    "from networkx import DiGraph\n",
    "g = DiGraph()\n",
    "g.add_edges_from([(e[0], e[1]) for e in graph.edges()])\n",
    "FrancyWidget(g)"
   ]
  },
  {
   "cell_type": "code",
   "execution_count": null,
   "metadata": {
    "slideshow": {
     "slide_type": "fragment"
    }
   },
   "outputs": [],
   "source": [
    "T5.cardinality()"
   ]
  },
  {
   "cell_type": "code",
   "execution_count": null,
   "metadata": {
    "slideshow": {
     "slide_type": "fragment"
    }
   },
   "outputs": [],
   "source": [
    "d_classes = T5.d_classes()\n",
    "for d_class in d_classes:\n",
    "    print(d_class)"
   ]
  },
  {
   "cell_type": "code",
   "execution_count": null,
   "metadata": {
    "slideshow": {
     "slide_type": "fragment"
    }
   },
   "outputs": [],
   "source": [
    "G = d_classes[1].schutzenberger_group()\n",
    "G"
   ]
  },
  {
   "cell_type": "markdown",
   "metadata": {
    "slideshow": {
     "slide_type": "subslide"
    }
   },
   "source": [
    "### <span class=modular>Modular representation of groups</span>"
   ]
  },
  {
   "cell_type": "code",
   "execution_count": null,
   "metadata": {
    "slideshow": {
     "slide_type": "fragment"
    }
   },
   "outputs": [],
   "source": [
    "reps = G.irreducible_representations(GF(3))\n",
    "for rho in reps:\n",
    "    display([matrix(rho(g).gap()) for g in G.group_generators()])"
   ]
  },
  {
   "cell_type": "code",
   "execution_count": null,
   "metadata": {
    "slideshow": {
     "slide_type": "fragment"
    }
   },
   "outputs": [],
   "source": [
    "all( [ rho(g)*rho(h) == rho(g*h) for g in G for h in G ] )"
   ]
  },
  {
   "cell_type": "markdown",
   "metadata": {
    "slideshow": {
     "slide_type": "slide"
    }
   },
   "source": [
    "## Why is that impressive?\n"
   ]
  },
  {
   "cell_type": "markdown",
   "metadata": {
    "slideshow": {
     "slide_type": "fragment"
    }
   },
   "source": [
    "### Diving behind the scene\n",
    "- Sage uses GAP for groups"
   ]
  },
  {
   "cell_type": "markdown",
   "metadata": {
    "slideshow": {
     "slide_type": "fragment"
    }
   },
   "source": [
    "- <span class=modular>GAP uses MeatAxe (C library)</span><br>\n",
    "  parallelism of MeatAxe64 <i class=\"logo\"></i>"
   ]
  },
  {
   "cell_type": "markdown",
   "metadata": {
    "slideshow": {
     "slide_type": "fragment"
    }
   },
   "source": [
    "- Sage uses GAP's <span class=semigroup>Semigroup packages for semigroups</span><br>\n",
    "  J. Mitchell et al."
   ]
  },
  {
   "cell_type": "markdown",
   "metadata": {
    "slideshow": {
     "slide_type": "fragment"
    }
   },
   "source": [
    "- <span class=semigroup>Semigroups uses libsemigroups (C++ library)</span><br>\n",
    "  J. Mitchell, inspired by Semigroupe of J.-E. Pin"
   ]
  },
  {
   "cell_type": "markdown",
   "metadata": {
    "slideshow": {
     "slide_type": "fragment"
    }
   },
   "source": [
    "- libsemigroups uses HPC Combi <i class=\"logo\"></i><br>\n",
    "  F. Hivert <i class=\"logo\"></i>, with feedback from J. Mitchell"
   ]
  },
  {
   "cell_type": "markdown",
   "metadata": {
    "slideshow": {
     "slide_type": "subslide"
    }
   },
   "source": [
    "### Low level interface to GAP: libgap\n",
    "One of ODK case studies for interfacing with other systems\n",
    "\n",
    "- libgap used to be a fragile hard to maintain fork of GAP<br>\n",
    "  Volker Braun\n",
    "  \n",
    "- libgap is now a standard feature of GAP<br>\n",
    "  M. Horn, A. Konovalov <i class=\"logo\"></i>, M. Pfeiffer <i class=\"logo\"></i>, J. Demeyer <i class=\"logo\"></i>, E. M. Bray <i class=\"logo\"></i>, N. Thiéry <i class=\"logo\"></i>, D. Pasechnik<i class=logo></i><br>\n",
    "  GAP-Sage Days 2016, 2017, 2018\n",
    "\n",
    "- Made possible by GAP's build system refactoring<br>\n",
    "  M. Horn, A. Konovalov <i class=\"logo\"></i>, ...\n",
    "\n",
    "- A major step for sustainable packaging of GAP and Sage"
   ]
  },
  {
   "cell_type": "markdown",
   "metadata": {
    "slideshow": {
     "slide_type": "subslide"
    }
   },
   "source": [
    "### <span class=semigroup>libsemigroups</a>\n",
    "\n",
    "One of ODK case study for extracting independent low-level libraries C++\n",
    "\n",
    "- libsemigroups API design:<br>\n",
    "  J. Mitchell with F. Hivert and  N. Thiéry: Cernay 2017, 2018\n",
    "\n",
    "- libsemigroups Python bindings<br>\n",
    "  J. Mitchell and  N. Thiéry <i class=\"logo\"></i>: Edinburgh, 2017, Cernay 2017, 2018\n",
    "\n",
    "- libsemibroups usable directly in Jupyter thanks to xeus-cling<br>\n",
    "  S. Corlay, J. Mabile, L. Gouarin <i class=\"logo\"></i>\n",
    "\n",
    "- libsemigroups packaging<br>\n",
    "  J. Mitchell and  N. Thiéry <i class=\"logo\"></i>: Jupyter for Mathematics Workshop, Edinburgh, 2017"
   ]
  },
  {
   "cell_type": "markdown",
   "metadata": {
    "slideshow": {
     "slide_type": "subslide"
    }
   },
   "source": [
    "### Sage-GAP lightweight Math-in-the-Middle interface\n"
   ]
  },
  {
   "cell_type": "markdown",
   "metadata": {
    "slideshow": {
     "slide_type": "fragment"
    }
   },
   "source": [
    "#### In action"
   ]
  },
  {
   "cell_type": "code",
   "execution_count": null,
   "metadata": {
    "slideshow": {
     "slide_type": "fragment"
    }
   },
   "outputs": [],
   "source": [
    "A = T5.algebra(QQ); A"
   ]
  },
  {
   "cell_type": "code",
   "execution_count": null,
   "metadata": {
    "slideshow": {
     "slide_type": "fragment"
    }
   },
   "outputs": [],
   "source": [
    "A.an_element() ^ 3"
   ]
  },
  {
   "cell_type": "markdown",
   "metadata": {
    "slideshow": {
     "slide_type": "fragment"
    }
   },
   "source": [
    "#### How it works\n",
    "- Enriched libgap handles with\n",
    "- Semantic carried over using\n",
    "- Alignments provided as annotations\n",
    "```python\n",
    "    @semantic(mmt=\"Group\", variant=\"multiplicative\")\n",
    "    class Groups:\n",
    "\n",
    "        class ParentMethods:\n",
    "\n",
    "            @semantic(gap=\"GeneratorsOfGroup\", codomain=Family[Self])\n",
    "            @abstract_method\n",
    "            def group_generators(self):\n",
    "                pass\n",
    "```"
   ]
  },
  {
   "cell_type": "markdown",
   "metadata": {
    "slideshow": {
     "slide_type": "slide"
    }
   },
   "source": [
    "## That's not all! <i class=\"logo\"></i>"
   ]
  },
  {
   "cell_type": "code",
   "execution_count": null,
   "metadata": {
    "scrolled": false,
    "slideshow": {
     "slide_type": "fragment"
    }
   },
   "outputs": [],
   "source": [
    "explore(G)"
   ]
  },
  {
   "cell_type": "markdown",
   "metadata": {
    "slideshow": {
     "slide_type": "subslide"
    }
   },
   "source": [
    "### <span class=sym>Combinatorial Representation Theory of $\\mathfrak S_n$</sym>"
   ]
  },
  {
   "cell_type": "code",
   "execution_count": null,
   "metadata": {
    "slideshow": {
     "slide_type": "fragment"
    }
   },
   "outputs": [],
   "source": [
    "StandardTableaux(10).random_element()"
   ]
  },
  {
   "cell_type": "code",
   "execution_count": null,
   "metadata": {
    "slideshow": {
     "slide_type": "fragment"
    }
   },
   "outputs": [],
   "source": [
    "Sym = SymmetricFunctions(QQ['t']);\n",
    "s = Sym.s()"
   ]
  },
  {
   "cell_type": "code",
   "execution_count": null,
   "metadata": {
    "slideshow": {
     "slide_type": "fragment"
    }
   },
   "outputs": [],
   "source": [
    "s[2,1].coproduct()"
   ]
  },
  {
   "cell_type": "code",
   "execution_count": null,
   "metadata": {
    "slideshow": {
     "slide_type": "fragment"
    }
   },
   "outputs": [],
   "source": [
    "@interact\n",
    "def f(p1 = Partition([2,1])._widget_()):\n",
    "      return s[p1].coproduct()"
   ]
  },
  {
   "cell_type": "markdown",
   "metadata": {
    "slideshow": {
     "slide_type": "subslide"
    }
   },
   "source": [
    "### <span class=modular>Modular</span> combinatorial representation theory of <span class=sym>$\\mathfrak S_n$</a>"
   ]
  },
  {
   "cell_type": "code",
   "execution_count": null,
   "metadata": {
    "slideshow": {
     "slide_type": "fragment"
    }
   },
   "outputs": [],
   "source": [
    "list(RibbonTableaux([[5,4,3],[2,1]], [2,1], 3))"
   ]
  },
  {
   "cell_type": "code",
   "execution_count": null,
   "metadata": {
    "slideshow": {
     "slide_type": "fragment"
    }
   },
   "outputs": [],
   "source": [
    "Sym.llt(3)"
   ]
  },
  {
   "cell_type": "markdown",
   "metadata": {
    "slideshow": {
     "slide_type": "slide"
    }
   },
   "source": [
    "## Really, why is that impressive?\n",
    "Balthazar has at his fingertips the **best computational tools** developed by **different math communities**, all from a **single Virtual Research Environment**:\n",
    "- <span class=modular>Modular representation theory of groups</span>\n",
    "- <span class=sym>Combinatorial Representation theory</span>\n",
    "- <span class=semigroup>Semigroup theory</span>\n",
    "- Algebraic Combinatorics\n",
    "\n",
    "And:\n",
    "\n",
    "- Experimental code from his research group\n",
    "- His own code"
   ]
  },
  {
   "cell_type": "markdown",
   "metadata": {
    "slideshow": {
     "slide_type": "subslide"
    }
   },
   "source": [
    "### For 20 years, I had been dreaming of this ...<br> <center>And my students too!</center>\n",
    "\n",
    "<table>\n",
    "    <tr>\n",
    "        <td><img src=\"pictures/isil.jpg\" width=170></td>\n",
    "        <td><img src=\"pictures/borie.jpg\" width=170></td>\n",
    "        <td><img src=\"pictures/denton.jpg\" width=170></td>\n",
    "        <td><img src=\"pictures/virmaux.jpg\" width=200></td>\n",
    "        <td><img src=\"pictures/falque.jpg\" width=160></td>\n",
    "        <td><img src=\"pictures/hubert.png\" width=160></td>\n",
    "    </tr>\n",
    "</table>"
   ]
  },
  {
   "cell_type": "markdown",
   "metadata": {
    "slideshow": {
     "slide_type": "slide"
    }
   },
   "source": [
    "## Thanks to <i class=\"logo\"></i> WP6\n",
    "Balthazar can:\n",
    "- easily **record** and **reuse** data he computes (e.g. character tables, ...)<br>\n",
    "  py-persist, Memoize\n",
    "- **document** it with metadata\n",
    "- **publish** it online, e.g. on http://data.mathhub.info !"
   ]
  },
  {
   "cell_type": "markdown",
   "metadata": {
    "slideshow": {
     "slide_type": "subslide"
    }
   },
   "source": [
    "## Thanks to training, <i class=\"logo\"></i> WP2\n",
    "Balthazar can use his **Basic Lab Skills** to:\n",
    "- Prepare **proper computational logbooks**\n",
    "\n",
    "- **Track** his work with version control (nbdime <i class=\"logo\"></i>)\n",
    "\n",
    "- Turn his notebooks into slideshows\n",
    "\n",
    "- **Publish** his work on a public repository, e.g. on [GitHub](github.com://OpenDreamKit/demo-semigroup-representation-theory/)\n",
    "\n",
    "- Document the software dependencies, e.g. as a [Dockerfile](./Dockerfile)\n",
    "\n",
    "- Make it easy for others to **reuse** and **reproduce**, e.g. on  [Binder](https://mybinder.org/v2/gh/OpenDreamKit/demo-semigroup-representation-theory/master?filepath=demo.ipynb)\n",
    "\n",
    "- Run his computations elsewhere, e.g. on a <a href=\"https://review-vre.opendreamkit.org\">powerful VRE</a>\n",
    "\n",
    "- Use **live-collaboration** <i class=\"logo\"></i>, e.g. to get help from his advisor!"
   ]
  },
  {
   "cell_type": "markdown",
   "metadata": {
    "slideshow": {
     "slide_type": "subslide"
    }
   },
   "source": [
    "## Enabled by <i class=logo></i> WP3\n",
    "Modularity, ease of installation and deployment, sustainability:\n",
    "- Packaging in Docker, Debian, Conda<br>\n",
    "  E. Bray <i class=\"logo\"></i>, J Rüth <i class=\"logo\"></i>, et al. et al. <br>\n",
    "  Cernay 2016, 2017, 2019\n",
    "- Ease to install packages in GAP: GAP's PackageManager<br>\n",
    "  Michael Torpey <i class=\"logo\"></i>\n",
    "- Integration in Sage of libsemigroups and Semigroups<br>\n",
    "  D. Paseshnik <i class=\"logo\"></i> et al.\n",
    "- Ease of authoring and distributing packages for Sage<br>\n",
    "  Sage package repository with pip (<i class=logo></i> et al.)<br>\n",
    "  Examples: sage-annotations <i class=\"logo\"></i>, sage-explorer <i class=\"logo\"></i>, sage-combinat-widgets <i class=\"logo\"></i>, sage-gap-semantic interface <i class=\"logo\"></i>, sage-semigroups<br>\n",
    "  N. Thiéry <i class=\"logo\"></i>, O. Bénassy <i class=\"logo\"></i> et al.\n",
    "- Migration to Python 3<br>\n",
    "  F. Chapoton, E. Bray <i class=\"logo\"></i>, D. Paseshnik <i class=\"logo\"></i>, J Demeyer <i class=\"logo\"></i>, ..."
   ]
  },
  {
   "cell_type": "markdown",
   "metadata": {
    "slideshow": {
     "slide_type": "subslide"
    }
   },
   "source": [
    "## Thanks to community building, <i class=\"logo\"></i> WP2\n",
    "\n",
    "<br><br>\n",
    "\n",
    "<center><strong>Balthazar is part of a diverse and supportive community</strong></center>\n",
    "\n",
    "<br>\n",
    "\n",
    "<img src=\"pictures/banner.png\" align=\"right\" width=\"55%\" style=\"opacity:0.5;filter:alpha(opacity=40);\"/>\n"
   ]
  },
  {
   "cell_type": "markdown",
   "metadata": {
    "slideshow": {
     "slide_type": "slide"
    }
   },
   "source": [
    "## Prehistory\n",
    "\n",
    "### 1994-2000: Computational Invariant theory of permutation groups\n",
    "\n",
    "- Needed:\n",
    "  - Group theory: GAP\n",
    "  - Computer Algebra: MuPAD\n",
    "  - Gröbner bases: FGb\n",
    "\n",
    "- PerMuVAR in MuPAD\n",
    "- Ugly homegrown C++ permutation group library (GLIP) + low level interface\n",
    "- Text interface to FGb\n",
    "- Student project: Lyx as notebook interface"
   ]
  },
  {
   "cell_type": "markdown",
   "metadata": {
    "slideshow": {
     "slide_type": "slide"
    }
   },
   "source": [
    "### 2000-2008: MuPAD-Combinat for Algebraic Combinatorics\n",
    "Was MuPAD the right choice?\n",
    "<center>\n",
    "    <img src=\"pictures/hulpke.jpg\" width=60%)>\n",
    "    <small>Brainstorming with Alexander Hulpke at Conférence Calcul Formel Libre '02 Lyon</small>\n",
    "</center>\n",
    "\n"
   ]
  },
  {
   "cell_type": "markdown",
   "metadata": {
    "slideshow": {
     "slide_type": "slide"
    }
   },
   "source": [
    "### 2008-: Sage-Combinat for Algebraic Combinatorics\n",
    "SageMath: finally GAP, PARI, Singular, Python, ... all under the same open source roof!"
   ]
  },
  {
   "cell_type": "markdown",
   "metadata": {
    "slideshow": {
     "slide_type": "slide"
    }
   },
   "source": [
    "### 2008-2011: Nicolas B.' thesis in Invariant Theory\n",
    "<img src=\"pictures/borie.jpg\">\n",
    "\n",
    "#### GAP's text-based interface shows its limits\n",
    "- Major bottleneck: Low granularity operations, like iterating through a group"
   ]
  },
  {
   "cell_type": "code",
   "execution_count": null,
   "metadata": {
    "slideshow": {
     "slide_type": "fragment"
    }
   },
   "outputs": [],
   "source": [
    "G = gap.SymmetricGroup(7)\n",
    "%time l = list(G.List())"
   ]
  },
  {
   "cell_type": "markdown",
   "metadata": {
    "slideshow": {
     "slide_type": "fragment"
    }
   },
   "source": [
    "- 201?: first libgap prototype: C-level interface to GAP"
   ]
  },
  {
   "cell_type": "code",
   "execution_count": null,
   "metadata": {
    "slideshow": {
     "slide_type": "fragment"
    }
   },
   "outputs": [],
   "source": [
    "G = libgap.SymmetricGroup(7)\n",
    "%time l = list(G.List())"
   ]
  },
  {
   "cell_type": "markdown",
   "metadata": {
    "slideshow": {
     "slide_type": "fragment"
    }
   },
   "source": [
    "#### High Performance Implementation of orbit generation\n",
    "- Collaboration Hivert / Borie\n",
    "- 1000x speedup!\n",
    "- Value of vectorization and low level parallelism for combinatorics"
   ]
  },
  {
   "cell_type": "markdown",
   "metadata": {
    "slideshow": {
     "slide_type": "slide"
    }
   },
   "source": [
    "### 2009-2015: Representation Theory of semigroups\n",
    "\n",
    "<center>\n",
    "<img src=\"pictures/denton.jpg\"> <img src=\"pictures/virmaux.jpg\">\n",
    "</center>\n",
    "\n",
    "Needs:\n",
    "- Coxeter groups (in GAP3)\n",
    "- Semigroups (GAP's Semigroup package, Semigroupe)\n",
    "- Combinatorics, Algebra, ... (Sage)"
   ]
  },
  {
   "cell_type": "markdown",
   "metadata": {
    "slideshow": {
     "slide_type": "fragment"
    }
   },
   "source": [
    "Technical problems:\n",
    "- Semigroupe unusable as C++ library beyond proof of concept\n",
    "- libgap incompatible with GAP packages\n",
    "- libgap hard to maintain\n",
    "\n",
    "Usability problems:\n",
    "- GAP groups behaving as native Sage groups\n",
    "- GAP semigroups **not** behaving as native Sage semigroups"
   ]
  },
  {
   "cell_type": "markdown",
   "metadata": {
    "slideshow": {
     "slide_type": "fragment"
    }
   },
   "source": [
    "Consequences:\n",
    "- Fragmented communities: users have to choose between systems\n",
    "- Lots of reimplemented code in Sage\n",
    "- An algorithm of 2010 still not implemented in full generality"
   ]
  },
  {
   "cell_type": "markdown",
   "metadata": {
    "slideshow": {
     "slide_type": "slide"
    }
   },
   "source": [
    "## Nicolas B, Justine F., Balthazar Charles, : need mix GAP and Sage\n",
    "\n",
    "\n",
    "## libsemigroups\n",
    "\n",
    "Semigroupe -> Jean-Eric Pin\n",
    "\n",
    "Proof of concept binding from Sage, but does not scale\n",
    "\n",
    "libsemigroups\n",
    "\n",
    "Python bindings (joint sprint with James)\n",
    "\n",
    "Conda packaging (joint sprint with James)\n",
    "\n",
    "Bindings with cppy (Cernay workshop): non functional\n",
    "\n",
    "Use from xeus-cling (@LoicGouarin, Johan Mabile, ): functional: run the index.ipynb notebook of https://github.com/james-d-mitchell/libsemigroups on binder.\n",
    "\n",
    "\n",
    "## \n",
    "\n",
    "Use sage-explorer <i class=\"logo\"></i>\n",
    "\n",
    "A widget to display tableaux\n",
    "\n",
    "Modular rep theory from GAP.\n",
    "\n",
    "MeatAxe\n",
    "\n",
    "LLT, symmetric functions, ...\n",
    "\n",
    "- Call for help: live-collaboration @minrk\n",
    "\n",
    "pypersist <i class=\"logo\"></i>/ Memoize <i class=\"logo\"></i>\n",
    "\n",
    "Already used by Pauline.\n",
    "\n",
    "\n",
    "## Aladin and Tom\n",
    "\n",
    "Working at Huawey and YouTube; using Jupyter on a daily basis for machine learning!"
   ]
  }
 ],
 "metadata": {
  "celltoolbar": "Diaporama",
  "kernelspec": {
   "display_name": "SageMath 8.9.beta7",
   "language": "sage",
   "name": "sagemath"
  },
  "language_info": {
   "codemirror_mode": {
    "name": "ipython",
    "version": 3
   },
   "file_extension": ".py",
   "mimetype": "text/x-python",
   "name": "python",
   "nbconvert_exporter": "python",
   "pygments_lexer": "ipython3",
   "version": "3.7.3"
  },
  "rise": {
   "auto_select": "first",
   "autolaunch": true,
   "background-image": "linear-gradient(rgba(255, 255, 255, 0.9), rgba(255, 255, 255, 0.9)), url(../../../public/images/banner.png);",
   "scroll": true,
   "start_slideshow_at": "selected",
   "transition": "none"
  },
  "toc": {
   "base_numbering": 1,
   "nav_menu": {},
   "number_sections": true,
   "sideBar": true,
   "skip_h1_title": true,
   "title_cell": "Table of Contents",
   "title_sidebar": "Contents",
   "toc_cell": false,
   "toc_position": {},
   "toc_section_display": true,
   "toc_window_display": false
  },
  "varInspector": {
   "cols": {
    "lenName": 16,
    "lenType": 16,
    "lenVar": 40
   },
   "kernels_config": {
    "python": {
     "delete_cmd_postfix": "",
     "delete_cmd_prefix": "del ",
     "library": "var_list.py",
     "varRefreshCmd": "print(var_dic_list())"
    },
    "r": {
     "delete_cmd_postfix": ") ",
     "delete_cmd_prefix": "rm(",
     "library": "var_list.r",
     "varRefreshCmd": "cat(var_dic_list()) "
    }
   },
   "types_to_exclude": [
    "module",
    "function",
    "builtin_function_or_method",
    "instance",
    "_Feature"
   ],
   "window_display": false
  }
 },
 "nbformat": 4,
 "nbformat_minor": 2
}
