{
 "cells": [
  {
   "cell_type": "markdown",
   "metadata": {
    "slideshow": {
     "slide_type": "slide"
    }
   },
   "source": [
    "# Use case: modular representation theory of semigroups\n",
    "\n",
    "<img src=\"pictures/banner.png\" align=\"right\" width=\"55%\" style=\"opacity:0.5;filter:alpha(opacity=40);\"/>\n",
    "\n",
    "Nicolas M. Thiéry<br>\n",
    "LRI, Université Paris Sud\n",
    "<br><br><br>\n",
    "\n",
    "<img src=\"pictures/qrcode.png\" width=\"25%\">\n",
    "\n",
    "<br>\n",
    "\n",
    "<img src=\"pictures/Flag_of_Europe.svg\"   width=\"10%\" align=\"left\">\n",
    "<img src=\"pictures/odk-elected-logo.svg\" width=\"6%\" align=\"right\">\n"
   ]
  },
  {
   "cell_type": "markdown",
   "metadata": {
    "slideshow": {
     "slide_type": "slide"
    }
   },
   "source": [
    "## Scenario\n",
    "\n",
    "Balthazar is starting a PhD in **modular** representation theory of **semigroups**"
   ]
  },
  {
   "cell_type": "markdown",
   "metadata": {
    "slideshow": {
     "slide_type": "fragment"
    }
   },
   "source": [
    "### Mathematical context\n",
    "- Representation theory of groups: a grand old topic; 10k+ papers in a century \n",
    "- Representation theory of the *symmetric group* $\\mathfrak{S}_n$: beautiful combinatorics"
   ]
  },
  {
   "cell_type": "markdown",
   "metadata": {
    "slideshow": {
     "slide_type": "fragment"
    }
   },
   "source": [
    "- **Modular** representation theory of groups: 1k+ papers in the last 50 years"
   ]
  },
  {
   "cell_type": "markdown",
   "metadata": {
    "slideshow": {
     "slide_type": "fragment"
    }
   },
   "source": [
    "- Representation theory of **semigroups**: dozens of papers in the last decades"
   ]
  },
  {
   "cell_type": "markdown",
   "metadata": {
    "slideshow": {
     "slide_type": "fragment"
    }
   },
   "source": [
    "- Motto: reduce everything to **combinatorics** + **group theory**"
   ]
  },
  {
   "cell_type": "markdown",
   "metadata": {
    "slideshow": {
     "slide_type": "fragment"
    }
   },
   "source": [
    "### Strategy\n",
    "- Implement an algorithm of 2010 in full generality<br>\n",
    "  Computing the Cartan Matrix of a semigroup\n",
    "- Adapt this algorithm to the modular case\n",
    "- Representation theory of the *transformation semigroup* $T_n$: beautiful combinatorics?"
   ]
  },
  {
   "cell_type": "markdown",
   "metadata": {
    "slideshow": {
     "slide_type": "fragment"
    }
   },
   "source": [
    "### Needs\n",
    "- **Program** and **explore**\n",
    "- Take advantage of **all the existing computational tools**"
   ]
  },
  {
   "cell_type": "markdown",
   "metadata": {
    "slideshow": {
     "slide_type": "subslide"
    }
   },
   "source": [
    "## Balthazar's VRE: SageMath et al."
   ]
  },
  {
   "cell_type": "code",
   "execution_count": 1,
   "metadata": {
    "slideshow": {
     "slide_type": "fragment"
    }
   },
   "outputs": [],
   "source": [
    "import sage_annotations\n",
    "from mygap import mygap\n",
    "mygap.LoadPackage(\"Semigroups\");\n",
    "import sage_semigroups\n",
    "import sage_combinat_widgets\n",
    "from   sage_explorer import explore\n",
    "%display unicode_art\n",
    "tensor.symbol = \" ⊗ \""
   ]
  },
  {
   "cell_type": "markdown",
   "metadata": {
    "slideshow": {
     "slide_type": "subslide"
    }
   },
   "source": [
    "### Semigroup theory"
   ]
  },
  {
   "cell_type": "code",
   "execution_count": 2,
   "metadata": {
    "slideshow": {
     "slide_type": "fragment"
    }
   },
   "outputs": [],
   "source": [
    "T5 = mygap.FullTransformationSemigroup(5)"
   ]
  },
  {
   "cell_type": "code",
   "execution_count": 3,
   "metadata": {
    "slideshow": {
     "slide_type": "skip"
    }
   },
   "outputs": [],
   "source": [
    "T3 = mygap.FullTransformationSemigroup(3)\n",
    "graph = T3.cayley_graph()\n",
    "graph.set_latex_options(format=\"dot2tex\")\n",
    "view(graph)"
   ]
  },
  {
   "cell_type": "code",
   "execution_count": 4,
   "metadata": {
    "slideshow": {
     "slide_type": "fragment"
    }
   },
   "outputs": [
    {
     "data": {
      "text/plain": [
       "3125"
      ]
     },
     "execution_count": 4,
     "metadata": {},
     "output_type": "execute_result"
    }
   ],
   "source": [
    "T5.cardinality()"
   ]
  },
  {
   "cell_type": "code",
   "execution_count": 5,
   "metadata": {
    "slideshow": {
     "slide_type": "fragment"
    }
   },
   "outputs": [
    {
     "name": "stdout",
     "output_type": "stream",
     "text": [
      "<Green's D-class: IdentityTransformation>\n",
      "<Green's D-class: Transformation( [ 1, 2, 3, 4, 1 ] )>\n",
      "<Green's D-class: Transformation( [ 1, 1, 2, 3, 1 ] )>\n",
      "<Green's D-class: Transformation( [ 3, 1, 3, 1, 3 ] )>\n",
      "<Green's D-class: Transformation( [ 1, 1, 1, 1, 1 ] )>\n"
     ]
    }
   ],
   "source": [
    "d_classes = T5.d_classes()\n",
    "for d_class in d_classes:\n",
    "    print(d_class)"
   ]
  },
  {
   "cell_type": "code",
   "execution_count": 6,
   "metadata": {
    "slideshow": {
     "slide_type": "fragment"
    }
   },
   "outputs": [
    {
     "data": {
      "text/plain": [
       "Group([ (1,2,3,4), (1,2) ])"
      ]
     },
     "execution_count": 6,
     "metadata": {},
     "output_type": "execute_result"
    }
   ],
   "source": [
    "G = d_classes[1].schutzenberger_group()\n",
    "G"
   ]
  },
  {
   "cell_type": "markdown",
   "metadata": {
    "slideshow": {
     "slide_type": "subslide"
    }
   },
   "source": [
    "### Modular representation of groups"
   ]
  },
  {
   "cell_type": "code",
   "execution_count": 7,
   "metadata": {
    "slideshow": {
     "slide_type": "fragment"
    }
   },
   "outputs": [
    {
     "data": {
      "text/plain": [
       "[ (1), (1) ]"
      ]
     },
     "metadata": {},
     "output_type": "display_data"
    },
    {
     "data": {
      "text/plain": [
       "[ (2), (2) ]"
      ]
     },
     "metadata": {},
     "output_type": "display_data"
    },
    {
     "data": {
      "text/plain": [
       "⎡ ⎛2 1 0⎞  ⎛0 0 1⎞ ⎤\n",
       "⎢ ⎜1 1 0⎟  ⎜0 2 0⎟ ⎥\n",
       "⎣ ⎝1 0 1⎠, ⎝1 0 0⎠ ⎦"
      ]
     },
     "metadata": {},
     "output_type": "display_data"
    },
    {
     "data": {
      "text/plain": [
       "⎡ ⎛2 1 1⎞  ⎛0 1 1⎞ ⎤\n",
       "⎢ ⎜0 0 1⎟  ⎜1 0 2⎟ ⎥\n",
       "⎣ ⎝2 0 0⎠, ⎝0 0 1⎠ ⎦"
      ]
     },
     "metadata": {},
     "output_type": "display_data"
    }
   ],
   "source": [
    "reps = G.irreducible_representations(GF(3))\n",
    "for rho in reps:\n",
    "    display([matrix(rho(g).gap()) for g in G.group_generators()])"
   ]
  },
  {
   "cell_type": "code",
   "execution_count": 8,
   "metadata": {
    "slideshow": {
     "slide_type": "fragment"
    }
   },
   "outputs": [
    {
     "data": {
      "text/plain": [
       "True"
      ]
     },
     "execution_count": 8,
     "metadata": {},
     "output_type": "execute_result"
    }
   ],
   "source": [
    "all( [ rho(g)*rho(h) == rho(g*h) for g in G for h in G ] )"
   ]
  },
  {
   "cell_type": "markdown",
   "metadata": {
    "slideshow": {
     "slide_type": "slide"
    }
   },
   "source": [
    "## Why is that impressive?\n"
   ]
  },
  {
   "cell_type": "markdown",
   "metadata": {
    "slideshow": {
     "slide_type": "fragment"
    }
   },
   "source": [
    "### Diving behind the scene\n",
    "- Sage uses GAP for groups"
   ]
  },
  {
   "cell_type": "markdown",
   "metadata": {
    "slideshow": {
     "slide_type": "fragment"
    }
   },
   "source": [
    "- GAP uses MeatAxe (C library)<br>\n",
    "  parallelism of MeatAxe64 (ODK)"
   ]
  },
  {
   "cell_type": "markdown",
   "metadata": {
    "slideshow": {
     "slide_type": "fragment"
    }
   },
   "source": [
    "- Sage uses GAP's Semigroup packages for semigroups<br>\n",
    "  J. Mitchell et al."
   ]
  },
  {
   "cell_type": "markdown",
   "metadata": {
    "slideshow": {
     "slide_type": "fragment"
    }
   },
   "source": [
    "- Semigroups uses libsemigroups (C++ library)<br>\n",
    "  J. Mitchell, inspired by Semigroupe of J.-E. Pin"
   ]
  },
  {
   "cell_type": "markdown",
   "metadata": {
    "slideshow": {
     "slide_type": "fragment"
    }
   },
   "source": [
    "- libsemigroups uses HPC Combi (ODK)<br>\n",
    "  F. Hivert (ODK), with feedback from J. Mitchell"
   ]
  },
  {
   "cell_type": "markdown",
   "metadata": {
    "slideshow": {
     "slide_type": "subslide"
    }
   },
   "source": [
    "### Low level interface to GAP: libgap\n",
    "One of ODK case studies for interfacing with other systems\n",
    "- libgap used to be a fragile hard to maintain fork of GAP<br>\n",
    "  Volker Braun\n",
    "- libgap is now a standard feature of GAP<br>\n",
    "  M. Horn, A. Konovalov (ODK), M. Pfeiffer (ODK), J. Demeyer (ODK), E Bray (ODK), N. Thiéry (ODK)<br>\n",
    "  GAP-Sage Days 2016, 2017, 2018\n",
    "- Made possible by GAP's build system refactoring<br>\n",
    "  M. Horn, A. Konovalov (ODK), ...\n",
    "- A major step for sustainable packaging of GAP and Sage"
   ]
  },
  {
   "cell_type": "markdown",
   "metadata": {
    "slideshow": {
     "slide_type": "subslide"
    }
   },
   "source": [
    "### libsemigroups\n",
    "\n",
    "One of ODK case study for extracting independent low-level libraries C++\n",
    "\n",
    "- libsemigroups API design:<br>\n",
    "  J. Mitchell with F. Hivert and  N. Thiéry: Cernay 2017, 2018\n",
    "- libsemigroups Python bindings<br>\n",
    "  J. Mitchell and  N. Thiéry (ODK): Edinburgh, 2017, Cernay 2017, 2018\n",
    "- libsemibroups usable directly in Jupyter thanks to xeus-cling<br>\n",
    "  Sylvain Corlay, Johan Mabile, L. Gouarin (ODK)\n",
    "- libsemigroups packaging\n",
    "  J. Mitchell and  N. Thiéry (ODK): Jupyter for Mathematics Workshop, Edinburgh, 2017"
   ]
  },
  {
   "cell_type": "markdown",
   "metadata": {
    "slideshow": {
     "slide_type": "subslide"
    }
   },
   "source": [
    "### Ease of installation and deployment, sustainability\n",
    "- Packaging in Docker, Debian, Conda<br>\n",
    "  E. Bray (ODK), J Rüth (ODK), et al. et al. <br>\n",
    "  Cernay 2016, 2017, 2019\n",
    "- Ease to install packages in GAP: GAP's PackageManager<br>\n",
    "  Michael Torpey (ODK)\n",
    "- Integration in Sage of libsemigroups and Semigroups: <br>\n",
    "  D. Paseshnik (ODK) et al.\n",
    "- Ease of authoring and distributing packages for Sage<br>\n",
    "  Sage package repository with pip (ODK & al.)<br>\n",
    "  Examples: sage-annotations, sage-explorer, sage-combinat-widgets, sage-gap-semantic interface, sage-semigroups, ...\n",
    "- Migration to Python 3<br>\n",
    "  F. Chapoton, E. Bray (ODK), D paseshnik (ODK), J Demeyer (ODK), ..."
   ]
  },
  {
   "cell_type": "markdown",
   "metadata": {
    "slideshow": {
     "slide_type": "subslide"
    }
   },
   "source": [
    "### Sage-GAP lightweight Math-in-the-Middle interface\n"
   ]
  },
  {
   "cell_type": "markdown",
   "metadata": {
    "slideshow": {
     "slide_type": "fragment"
    }
   },
   "source": [
    "#### In action"
   ]
  },
  {
   "cell_type": "code",
   "execution_count": 9,
   "metadata": {
    "slideshow": {
     "slide_type": "fragment"
    }
   },
   "outputs": [
    {
     "data": {
      "text/plain": [
       "Algebra of <full transformation monoid of degree 5> over Rational Field"
      ]
     },
     "execution_count": 9,
     "metadata": {},
     "output_type": "execute_result"
    }
   ],
   "source": [
    "A = T5.algebra(QQ); A"
   ]
  },
  {
   "cell_type": "code",
   "execution_count": 10,
   "metadata": {
    "slideshow": {
     "slide_type": "fragment"
    }
   },
   "outputs": [
    {
     "data": {
      "text/plain": [
       "58*B                                    + 72*\n",
       "    Transformation( [ 4, 5, 1, 2, 3 ] )      \n",
       "\n",
       "B                                    + 74*B                                   \n",
       " Transformation( [ 2, 3, 4, 5, 1 ] )       Transformation( [ 3, 4, 5, 1, 2 ] )\n",
       "\n",
       " + 76*1 + 63*B\n",
       "              Transformation( [ 5, 1, 2, 3, 4 ] )"
      ]
     },
     "execution_count": 10,
     "metadata": {},
     "output_type": "execute_result"
    }
   ],
   "source": [
    "A.an_element() ^ 3"
   ]
  },
  {
   "cell_type": "markdown",
   "metadata": {
    "slideshow": {
     "slide_type": "fragment"
    }
   },
   "source": [
    "#### How it works\n",
    "- Enriched libgap handles with\n",
    "- Semantic carried over using\n",
    "- Alignments provided as annotations\n",
    "```python\n",
    "    @semantic(mmt=\"Group\", variant=\"multiplicative\")\n",
    "    class Groups:\n",
    "\n",
    "        class ParentMethods:\n",
    "\n",
    "            @semantic(gap=\"IsAbelian\", codomain=Sage)\n",
    "            @abstract_method\n",
    "            def is_abelian(self):\n",
    "                pass\n",
    "\n",
    "            @semantic(gap=\"GeneratorsOfGroup\", codomain=Family[Self])\n",
    "            @abstract_method\n",
    "            def group_generators(self):\n",
    "                pass\n",
    "\n",
    "            @semantic(gap=r\"\\/\")\n",
    "            @abstract_method\n",
    "            def __truediv__(self, relators):\n",
    "                pass\n",
    "```"
   ]
  },
  {
   "cell_type": "markdown",
   "metadata": {
    "slideshow": {
     "slide_type": "slide"
    }
   },
   "source": [
    "## That's not all!"
   ]
  },
  {
   "cell_type": "code",
   "execution_count": 11,
   "metadata": {
    "scrolled": true,
    "slideshow": {
     "slide_type": "fragment"
    }
   },
   "outputs": [
    {
     "data": {
      "application/vnd.jupyter.widget-view+json": {
       "model_id": "929cd7d096ca4cf08957e8947ec25837",
       "version_major": 2,
       "version_minor": 0
      },
      "text/plain": [
       "SageExplorer(children=(VBox(children=(ExplorerTitle(children=(MathTitle(value='Exploring: Group([ (1,2,3,4), (…"
      ]
     },
     "metadata": {},
     "output_type": "display_data"
    }
   ],
   "source": [
    "explore(G)"
   ]
  },
  {
   "cell_type": "markdown",
   "metadata": {
    "slideshow": {
     "slide_type": "subslide"
    }
   },
   "source": [
    "### Combinatorial Representation Theory of $\\mathfrak S_n$"
   ]
  },
  {
   "cell_type": "code",
   "execution_count": 12,
   "metadata": {
    "slideshow": {
     "slide_type": "fragment"
    }
   },
   "outputs": [
    {
     "data": {
      "text/plain": [
       "┌───┬────┬───┬───┐\n",
       "│ 1 │ 3  │ 5 │ 7 │\n",
       "├───┼────┼───┼───┤\n",
       "│ 2 │ 4  │ 6 │ 9 │\n",
       "├───┼────┼───┴───┘\n",
       "│ 8 │ 10 │\n",
       "└───┴────┘"
      ]
     },
     "execution_count": 12,
     "metadata": {},
     "output_type": "execute_result"
    }
   ],
   "source": [
    "StandardTableaux(10).random_element()"
   ]
  },
  {
   "cell_type": "code",
   "execution_count": 13,
   "metadata": {
    "slideshow": {
     "slide_type": "fragment"
    }
   },
   "outputs": [],
   "source": [
    "Sym = SymmetricFunctions(QQ['t']);\n",
    "s = Sym.s()"
   ]
  },
  {
   "cell_type": "code",
   "execution_count": 15,
   "metadata": {
    "slideshow": {
     "slide_type": "fragment"
    }
   },
   "outputs": [
    {
     "data": {
      "text/plain": [
       "1 ⊗ s    + s   ⊗ s   + s   ⊗ s    + s   ⊗ s   + s    ⊗ s   + s    ⊗ 1\n",
       "     ┌┬┐    ┌┐    ┌┐    ┌┐    ┌┬┐    ┌┐    ┌┐    ┌┬┐    ┌┐    ┌┬┐   \n",
       "     ├┼┘    └┘    ├┤    └┘    └┴┘    ├┤    └┘    └┴┘    └┘    ├┼┘   \n",
       "     └┘           └┘                 └┘                       └┘    "
      ]
     },
     "execution_count": 15,
     "metadata": {},
     "output_type": "execute_result"
    }
   ],
   "source": [
    "s[2,1].coproduct()"
   ]
  },
  {
   "cell_type": "code",
   "execution_count": 16,
   "metadata": {
    "slideshow": {
     "slide_type": "fragment"
    }
   },
   "outputs": [
    {
     "data": {
      "application/vnd.jupyter.widget-view+json": {
       "model_id": "6147b0e18aab4c72b9dc63f30bc0436e",
       "version_major": 2,
       "version_minor": 0
      },
      "text/plain": [
       "Interactive function <function f at 0x7f65bdab6d90> with 1 widget\n",
       "  p1: GridViewWidget(value=[2, 1], children=…"
      ]
     },
     "metadata": {},
     "output_type": "display_data"
    }
   ],
   "source": [
    "@interact\n",
    "def f(p1 = Partition([2,1])._widget_()):\n",
    "      return s[p1].coproduct()"
   ]
  },
  {
   "cell_type": "markdown",
   "metadata": {
    "slideshow": {
     "slide_type": "subslide"
    }
   },
   "source": [
    "### Modular combinatorial representation theory of $\\mathfrak S_n$"
   ]
  },
  {
   "cell_type": "code",
   "execution_count": 17,
   "metadata": {
    "slideshow": {
     "slide_type": "fragment"
    }
   },
   "outputs": [
    {
     "data": {
      "text/plain": [
       "⎡   .  .  0  0  0    .  .  1  0  0    .  .  0  0  0 ⎤\n",
       "⎢   .  0  0  2       .  0  0  0       .  1  0  1    ⎥\n",
       "⎣   1  0  1      ,   1  0  2      ,   2  0  0       ⎦"
      ]
     },
     "execution_count": 17,
     "metadata": {},
     "output_type": "execute_result"
    }
   ],
   "source": [
    "list(RibbonTableaux([[5,4,3],[2,1]], [2,1], 3))"
   ]
  },
  {
   "cell_type": "code",
   "execution_count": 18,
   "metadata": {
    "slideshow": {
     "slide_type": "fragment"
    }
   },
   "outputs": [
    {
     "data": {
      "text/plain": [
       "level 3 LLT polynomials over Univariate Polynomial Ring in t over Rational Field"
      ]
     },
     "execution_count": 18,
     "metadata": {},
     "output_type": "execute_result"
    }
   ],
   "source": [
    "Sym.llt(3)"
   ]
  },
  {
   "cell_type": "markdown",
   "metadata": {
    "slideshow": {
     "slide_type": "slide"
    }
   },
   "source": [
    "## Really, why is that impressive?\n",
    "Balthazar has at his fingertips the **best computational tools** developed by **different math communities**, all from a **single system**:\n",
    "- Representation theory of groups\n",
    "- Combinatorial Representation theory\n",
    "- Semigroup theory\n",
    "- Algebraic Combinatorics\n",
    "- Experimental code from his research group"
   ]
  },
  {
   "cell_type": "markdown",
   "metadata": {
    "slideshow": {
     "slide_type": "subslide"
    }
   },
   "source": [
    "### For 20 years, I had been dreaming of this ...<br> <center>And my students too!</center>\n",
    "\n",
    "<table>\n",
    "    <tr>\n",
    "        <td><img src=\"pictures/isil.jpg\" width=170></td>\n",
    "        <td><img src=\"pictures/borie2.jpg\" width=170></td>\n",
    "        <td><img src=\"pictures/denton.jpg\" width=170></td>\n",
    "        <td><img src=\"pictures/virmaux.jpg\" width=200></td>\n",
    "        <td><img src=\"pictures/falque.jpg\" width=160></td>\n",
    "        <td><img src=\"pictures/hubert.png\" width=160></td>\n",
    "    </tr>\n",
    "</table>"
   ]
  },
  {
   "cell_type": "markdown",
   "metadata": {
    "slideshow": {
     "slide_type": "slide"
    }
   },
   "source": [
    "## Even more"
   ]
  },
  {
   "cell_type": "markdown",
   "metadata": {
    "slideshow": {
     "slide_type": "fragment"
    }
   },
   "source": [
    "Thanks to WP6,  Balthazar can:\n",
    "- easily **record** and **reuse** data he computes (e.g. character tables, ...)<br>\n",
    "  py-persist, Memoize\n",
    "- **document** it with metadata\n",
    "- **publish** it online, e.g. on http://data.mathhub.info !"
   ]
  },
  {
   "cell_type": "markdown",
   "metadata": {
    "slideshow": {
     "slide_type": "subslide"
    }
   },
   "source": [
    "Thanks to training (WP2), Balthazar can use his **Basic Lab Skills** to:\n",
    "- Prepare **proper computational logbooks**\n",
    "- **Publish** his work on a public repository, e.g. on [GitHub](github.com://OpenDreamKit/demo-semigroup-representation-theory/)\n",
    "- Document the software dependencies, e.g. as a [Dockerfile](./Dockerfile)\n",
    "- Make it easy for others to **reuse** and **reproduce**, e.g. on  [Binder](https://mybinder.org/v2/gh/OpenDreamKit/demo-semigroup-representation-theory/master?filepath=demo.ipynb)\n",
    "- Run his computations elsewhere, e.g. on high end computer\n",
    "- **Track** his work with version control (nbdime)\n",
    "- Use **live-collaboration**, e.g. to get help from his advisor!"
   ]
  },
  {
   "cell_type": "markdown",
   "metadata": {
    "slideshow": {
     "slide_type": "subslide"
    }
   },
   "source": [
    "## Last but not least\n",
    "\n",
    "Thanks to community building (WP2):\n",
    "\n",
    "<br><br>\n",
    "\n",
    "<center><strong>Balthazar is part of a diverse and supportive community</strong></center>\n",
    "\n",
    "<br>\n",
    "\n",
    "<img src=\"pictures/banner.png\" align=\"right\" width=\"55%\" style=\"opacity:0.5;filter:alpha(opacity=40);\"/>\n"
   ]
  },
  {
   "cell_type": "markdown",
   "metadata": {
    "slideshow": {
     "slide_type": "slide"
    }
   },
   "source": [
    "## Prehistory\n",
    "\n",
    "### 1994-2000: Computational Invariant theory of permutation groups\n",
    "\n",
    "- Needed:\n",
    "  - Group theory: GAP\n",
    "  - Computer Algebra: MuPAD\n",
    "  - Gröbner bases: FGb\n",
    "\n",
    "- PerMuVAR in MuPAD\n",
    "- Ugly homegrown C++ permutation group library (GLIP) + low level interface\n",
    "- Text interface to FGb\n",
    "- Student project: Lyx as notebook interface"
   ]
  },
  {
   "cell_type": "markdown",
   "metadata": {
    "slideshow": {
     "slide_type": "slide"
    }
   },
   "source": [
    "### 2000-2008: MuPAD-Combinat for Algebraic Combinatorics\n",
    "Was MuPAD the right choice?\n",
    "<center>\n",
    "    <img src=\"pictures/hulpke.jpg\" width=60%)>\n",
    "    <small>Brainstorming with Alexander Hulpke at Conférence Calcul Formel Libre '02 Lyon</small>\n",
    "</center>\n",
    "\n"
   ]
  },
  {
   "cell_type": "markdown",
   "metadata": {
    "slideshow": {
     "slide_type": "slide"
    }
   },
   "source": [
    "### 2008-: Sage-Combinat for Algebraic Combinatorics\n",
    "SageMath: finally GAP, PARI, Singular, Python, ... all under the same open source roof!"
   ]
  },
  {
   "cell_type": "markdown",
   "metadata": {
    "slideshow": {
     "slide_type": "slide"
    }
   },
   "source": [
    "### 2008-2011: Nicolas B.' thesis in Invariant Theory\n",
    "<img src=\"pictures/borie.jpg\">\n",
    "\n",
    "#### GAP's text-based interface shows its limits\n",
    "- Major bottleneck: Low granularity operations, like iterating through a group"
   ]
  },
  {
   "cell_type": "code",
   "execution_count": null,
   "metadata": {
    "slideshow": {
     "slide_type": "fragment"
    }
   },
   "outputs": [],
   "source": [
    "G = gap.SymmetricGroup(7)\n",
    "%time l = list(G.List())"
   ]
  },
  {
   "cell_type": "markdown",
   "metadata": {
    "slideshow": {
     "slide_type": "fragment"
    }
   },
   "source": [
    "- 201?: first libgap prototype: C-level interface to GAP"
   ]
  },
  {
   "cell_type": "code",
   "execution_count": null,
   "metadata": {
    "slideshow": {
     "slide_type": "fragment"
    }
   },
   "outputs": [],
   "source": [
    "G = libgap.SymmetricGroup(7)\n",
    "%time l = list(G.List())"
   ]
  },
  {
   "cell_type": "markdown",
   "metadata": {
    "slideshow": {
     "slide_type": "fragment"
    }
   },
   "source": [
    "#### High Performance Implementation of orbit generation\n",
    "- Collaboration Hivert / Borie\n",
    "- 1000x speedup!\n",
    "- Value of vectorization and low level parallelism for combinatorics"
   ]
  },
  {
   "cell_type": "markdown",
   "metadata": {
    "slideshow": {
     "slide_type": "slide"
    }
   },
   "source": [
    "### 2009-2015: Representation Theory of semigroups\n",
    "\n",
    "<center>\n",
    "<img src=\"pictures/denton.jpg\"> <img src=\"pictures/virmaux.jpg\">\n",
    "</center>\n",
    "\n",
    "Needs:\n",
    "- Coxeter groups (in GAP3)\n",
    "- Semigroups (GAP's Semigroup package, Semigroupe)\n",
    "- Combinatorics, Algebra, ... (Sage)"
   ]
  },
  {
   "cell_type": "markdown",
   "metadata": {
    "slideshow": {
     "slide_type": "fragment"
    }
   },
   "source": [
    "Technical problems:\n",
    "- Semigroupe unusable as C++ library beyond proof of concept\n",
    "- libgap incompatible with GAP packages\n",
    "- libgap hard to maintain\n",
    "\n",
    "Usability problems:\n",
    "- GAP groups behaving as native Sage groups\n",
    "- GAP semigroups **not** behaving as native Sage semigroups"
   ]
  },
  {
   "cell_type": "markdown",
   "metadata": {
    "slideshow": {
     "slide_type": "fragment"
    }
   },
   "source": [
    "Consequences:\n",
    "- Fragmented communities: users have to choose between systems\n",
    "- Lots of reimplemented code in Sage\n",
    "- An algorithm of 2010 still not implemented in full generality"
   ]
  },
  {
   "cell_type": "markdown",
   "metadata": {
    "slideshow": {
     "slide_type": "slide"
    }
   },
   "source": [
    "## Nicolas B, Justine F., Balthazar Charles, : need mix GAP and Sage\n",
    "\n",
    "\n",
    "## libsemigroups\n",
    "\n",
    "Semigroupe -> Jean-Eric Pin\n",
    "\n",
    "Proof of concept binding from Sage, but does not scale\n",
    "\n",
    "libsemigroups\n",
    "\n",
    "Python bindings (joint sprint with James)\n",
    "\n",
    "Conda packaging (joint sprint with James)\n",
    "\n",
    "Bindings with cppy (Cernay workshop): non functional\n",
    "\n",
    "Use from xeus-cling (@LoicGouarin, Johan Mabile, ): functional: run the index.ipynb notebook of https://github.com/james-d-mitchell/libsemigroups on binder.\n",
    "\n",
    "\n",
    "## \n",
    "\n",
    "Use sage-explorer\n",
    "\n",
    "A widget to display tableaux\n",
    "\n",
    "Modular rep theory from GAP.\n",
    "\n",
    "MeatAxe\n",
    "\n",
    "LLT, symmetric functions, ...\n",
    "\n",
    "- Call for help: live-collaboration @minrk\n",
    "\n",
    "pypersist / Memoize\n",
    "\n",
    "Already used by Pauline.\n",
    "\n",
    "\n",
    "## Aladin and Tom\n",
    "\n",
    "Working at Huawey and YouTube; using Jupyter on a daily basis for machine learning!"
   ]
  }
 ],
 "metadata": {
  "celltoolbar": "Diaporama",
  "kernelspec": {
   "display_name": "SageMath 8.9.beta7",
   "language": "sage",
   "name": "sagemath"
  },
  "language_info": {
   "codemirror_mode": {
    "name": "ipython",
    "version": 3
   },
   "file_extension": ".py",
   "mimetype": "text/x-python",
   "name": "python",
   "nbconvert_exporter": "python",
   "pygments_lexer": "ipython3",
   "version": "3.7.3"
  },
  "rise": {
   "auto_select": "first",
   "autolaunch": true,
   "background-image": "linear-gradient(rgba(255, 255, 255, 0.9), rgba(255, 255, 255, 0.9)), url(../../../public/images/banner.png);",
   "scroll": true,
   "start_slideshow_at": "selected",
   "transition": "none"
  },
  "toc": {
   "base_numbering": 1,
   "nav_menu": {},
   "number_sections": true,
   "sideBar": true,
   "skip_h1_title": true,
   "title_cell": "Table of Contents",
   "title_sidebar": "Contents",
   "toc_cell": false,
   "toc_position": {},
   "toc_section_display": true,
   "toc_window_display": false
  },
  "varInspector": {
   "cols": {
    "lenName": 16,
    "lenType": 16,
    "lenVar": 40
   },
   "kernels_config": {
    "python": {
     "delete_cmd_postfix": "",
     "delete_cmd_prefix": "del ",
     "library": "var_list.py",
     "varRefreshCmd": "print(var_dic_list())"
    },
    "r": {
     "delete_cmd_postfix": ") ",
     "delete_cmd_prefix": "rm(",
     "library": "var_list.r",
     "varRefreshCmd": "cat(var_dic_list()) "
    }
   },
   "types_to_exclude": [
    "module",
    "function",
    "builtin_function_or_method",
    "instance",
    "_Feature"
   ],
   "window_display": false
  }
 },
 "nbformat": 4,
 "nbformat_minor": 2
}
