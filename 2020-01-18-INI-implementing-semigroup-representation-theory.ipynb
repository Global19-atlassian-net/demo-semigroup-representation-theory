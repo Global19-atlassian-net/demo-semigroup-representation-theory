{
 "cells": [
  {
   "cell_type": "markdown",
   "metadata": {
    "slideshow": {
     "slide_type": "slide"
    }
   },
   "source": [
    "$\\newcommand{\\K}{\\mathbb{K}}$\n",
    "# Musing on implementing semigroup representation theory and software integration\n",
    "\n",
    "<img src=\"pictures/banner.png\" align=\"right\" width=\"55%\" style=\"opacity:0.5;filter:alpha(opacity=40);\"/>\n",
    "\n",
    "Nicolas M. Thiéry<br>\n",
    "LRI, Université Paris Sud\n",
    "<br><br><br>\n",
    "\n",
    "Run this live on binder:\n",
    "<a href=\"https://mybinder.org/v2/gh/OpenDreamKit/demo-semigroup-representation-theory/master?filepath=demo.ipynb\">\n",
    "<img src=\"pictures/qrcode.png\" width=\"25%\"> TODO: update\n",
    "</a>\n",
    "\n",
    "<br>\n",
    "\n",
    "<img src=\"pictures/Flag_of_Europe.svg\"   width=\"10%\" align=\"left\">\n",
    "<img src=\"pictures/odk-elected-logo.svg\" width=\"6%\" align=\"right\">\n"
   ]
  },
  {
   "cell_type": "markdown",
   "metadata": {
    "heading_collapsed": true,
    "slideshow": {
     "slide_type": "notes"
    }
   },
   "source": [
    "## Abstract\n",
    "\n",
    "Extending representation theory from finite groups to finite\n",
    "semigroups brings interesting challenges, combinatorics, and\n",
    "applications. Almost a decade ago, I proposed an algorithm to compute\n",
    "the Cartan Matrix of a semigroup algebra -- a combinatorial invariant\n",
    "that contains information on how projective modules are built from\n",
    "simple modules. It boils down to computing with finite semigroups,\n",
    "characters of groups, and combinatorics. Despite this relative\n",
    "simplicity, and much to my embarrassment, a full production-grade\n",
    "implementation is just barely in reach.\n",
    "\n",
    "In this talk, I'll muse on the long road I took, exploring alongside\n",
    "many colleagues ways to compose existing software (here in C++, GAP,\n",
    "Sage) and organize community development aiming at flexibility,\n",
    "performance, ease of deployment, and sustainability. I will also\n",
    "briefly report on ongoing joint work with my PhD student Balthazar\n",
    "Charles to adapt the algorithm to modular representations."
   ]
  },
  {
   "cell_type": "markdown",
   "metadata": {
    "hidden": true,
    "slideshow": {
     "slide_type": "slide"
    }
   },
   "source": [
    "### Balthazar's thesis: modular representations of semigroups"
   ]
  },
  {
   "cell_type": "markdown",
   "metadata": {
    "heading_collapsed": true,
    "slideshow": {
     "slide_type": "slide"
    }
   },
   "source": [
    "## Main thread of the talk\n",
    "\n",
    "Balthazar is starting a PhD in <span class=\"modular\">modular</span> representation theory of <span class=\"semigroup\">semigroups</span>"
   ]
  },
  {
   "cell_type": "markdown",
   "metadata": {
    "heading_collapsed": true,
    "hidden": true,
    "slideshow": {
     "slide_type": "fragment"
    }
   },
   "source": [
    "### Mathematical landscape"
   ]
  },
  {
   "cell_type": "markdown",
   "metadata": {
    "hidden": true,
    "slideshow": {
     "slide_type": "fragment"
    }
   },
   "source": [
    "- Representation theory of groups: a grand old topic; 10k+ papers in a century \n",
    "- Representation theory of the <span class=sym>symmetric group $\\mathfrak{S}_n$</span>: beautiful combinatorics"
   ]
  },
  {
   "cell_type": "markdown",
   "metadata": {
    "hidden": true,
    "slideshow": {
     "slide_type": "fragment"
    }
   },
   "source": [
    "- <span class=modular>Modular</span> representation theory of groups: 1k+ papers in the past 50 years"
   ]
  },
  {
   "cell_type": "markdown",
   "metadata": {
    "hidden": true,
    "slideshow": {
     "slide_type": "fragment"
    }
   },
   "source": [
    "- Representation theory of <span class=semigroup>semigroups</span>: dozens of papers in the last decades"
   ]
  },
  {
   "cell_type": "markdown",
   "metadata": {
    "hidden": true,
    "slideshow": {
     "slide_type": "fragment"
    }
   },
   "source": [
    "- Motto of <span class=semigroup>semigroup theory</span>: reduce to **combinatorics** + **group theory**"
   ]
  },
  {
   "cell_type": "markdown",
   "metadata": {
    "heading_collapsed": true,
    "hidden": true,
    "slideshow": {
     "slide_type": "fragment"
    }
   },
   "source": [
    "### Strategy"
   ]
  },
  {
   "cell_type": "markdown",
   "metadata": {
    "hidden": true,
    "slideshow": {
     "slide_type": "fragment"
    }
   },
   "source": [
    "- Implement an algorithm of 2010 in full generality<br>\n",
    "  <span class=semigroup>Computing the Cartan Invariants Matrix of a semigroup</span>\n",
    "- Adapt this algorithm to the <span class=modular>modular</modular> case\n",
    "- Explore the representation theory of the <span class=sym>transformation semigroup $T_n$</span>: beautiful combinatorics?"
   ]
  },
  {
   "cell_type": "markdown",
   "metadata": {
    "slideshow": {
     "slide_type": "slide"
    }
   },
   "source": [
    "## The mathematical landscape"
   ]
  },
  {
   "cell_type": "markdown",
   "metadata": {
    "slideshow": {
     "slide_type": "fragment"
    }
   },
   "source": [
    "### Semigroup theory perspective\n",
    "- Groups as perfect circles\n",
    "- The imperfection of semigroups: what happens when you can't always run in circle?\n",
    "- Irreversible steps, ideals (left and right)\n",
    "- By losing invertibility, did we loose all hopes for structure?\n",
    "- J-classes, eggbox"
   ]
  },
  {
   "cell_type": "markdown",
   "metadata": {
    "slideshow": {
     "slide_type": "subslide"
    }
   },
   "source": [
    "### Why bother?\n",
    "\n",
    "- Representation theory: also a tool for studying processes<br>\n",
    "  E.g.: Splitting state spaces of large Discrete Markov chains\n",
    "\n",
    "- Life is imperfect: many processes have irreversible steps!\n",
    "\n",
    "**Example:** the Tsetlin library\n",
    "<img src=\"tsetlin-library.png\" width=30%>\n",
    "- Beautiful eigenvalues\n",
    "- Explanation: very irreversible process $\\Longrightarrow$ basic representation theory"
   ]
  },
  {
   "cell_type": "markdown",
   "metadata": {
    "slideshow": {
     "slide_type": "subslide"
    }
   },
   "source": [
    "### There are other angels\n",
    "<img src=\"pictures/monoidClasses.svg\">\n",
    "\n",
    "**Motto**: reduce to the angels: group theory, combinatorics, linear algebra"
   ]
  },
  {
   "cell_type": "markdown",
   "metadata": {
    "slideshow": {
     "slide_type": "subslide"
    }
   },
   "source": [
    "### Representation theory of semigroups, in a nutshell\n",
    "- Construction of simple modules\n",
    "- Not semi-simple: Simple ≠ Indecomposable\n",
    "- Composition factors\n",
    "- Character theory<br>\n",
    "  $\\Longrightarrow$ tool to recover composition factors\n",
    "\n",
    "\n",
    "- Among indecomposable: projectives the largest ones\n",
    "- What are there composition factors -> The Cartan Matrix\n",
    "  A source of combinatorics"
   ]
  },
  {
   "cell_type": "markdown",
   "metadata": {
    "slideshow": {
     "slide_type": "slide"
    }
   },
   "source": [
    "### Computing the Cartan Matrix?"
   ]
  },
  {
   "cell_type": "markdown",
   "metadata": {
    "slideshow": {
     "slide_type": "fragment"
    }
   },
   "source": [
    "**Algorithm from finite dimensional algebras:**\n",
    "- Decompose the center of the semisimple quotient (MeatAxe-style)\n",
    "- Recover idempotents\n",
    "- Compute projective modules\n",
    "- Recover composition factors\n",
    "- Linear algebra on $\\K S$, if not $End(\\K S)$"
   ]
  },
  {
   "cell_type": "markdown",
   "metadata": {
    "slideshow": {
     "slide_type": "fragment"
    }
   },
   "source": [
    "**Basic insight (T. 2010):**\n",
    "- Realize that the Cartan Matrix is the character of $\\K S$ as $S$-mod-$S$ bimodule\n",
    "- Computation by characters!"
   ]
  },
  {
   "cell_type": "markdown",
   "metadata": {
    "slideshow": {
     "slide_type": "fragment"
    }
   },
   "source": [
    "**Algorithm:**\n",
    "- Compute semigroup structure, conjugacy class representatives $CC$\n",
    "- Count two sided fixed points for each pair in $CC$ acting on $S$<br>\n",
    "  Complexity (Mitchell, T, Charles '20): $O\\left(\\#CC^2\\sum_j \\#L_j+\\#R_j\\right)$ group operations\n",
    "- Compute characters of simple modules<br>\n",
    "  Probable bottleneck: computing the radical of $\\K L$: $O\\left(\\sum\\#L_i^3\\right)$\n",
    "- Embarassingly parallel"
   ]
  },
  {
   "cell_type": "markdown",
   "metadata": {
    "slideshow": {
     "slide_type": "fragment"
    }
   },
   "source": [
    "**Implementation:**\n",
    "- Handles a semigroup of size 31k in one hour (intractable before)\n",
    "- Aperiodic case only!"
   ]
  },
  {
   "cell_type": "markdown",
   "metadata": {
    "slideshow": {
     "slide_type": "slide"
    }
   },
   "source": [
    "## Musing on our computational landscape"
   ]
  },
  {
   "cell_type": "markdown",
   "metadata": {
    "slideshow": {
     "slide_type": "slide"
    }
   },
   "source": [
    "### Available building blocks"
   ]
  },
  {
   "cell_type": "markdown",
   "metadata": {
    "slideshow": {
     "slide_type": "fragment"
    }
   },
   "source": [
    "- Group computations: GAP!\n",
    "- Semigroup computations: GAP, Semigroups (GAP), KBMag (C), Semigroupe (C), libsemigroups (C++), Sage\n",
    "- (Modular) representation theory of groups: GAP! (but also GAP3+Specht)\n",
    "- Combinatorial representation theory: Sage\n",
    "- Linear algebra: MeatAxe, Linbox, Sage, ...\n",
    "- Coxeter groups: GAP3+Chevie, GAP, Sage\n",
    "- Markov chains: Mathematica, ...\n",
    "\n",
    "Question: How to proceed?"
   ]
  },
  {
   "cell_type": "markdown",
   "metadata": {
    "slideshow": {
     "slide_type": "subslide"
    }
   },
   "source": [
    "### The Unicorn way: “There can be only one”"
   ]
  },
  {
   "cell_type": "markdown",
   "metadata": {
    "slideshow": {
     "slide_type": "fragment"
    }
   },
   "source": [
    "That's what happens in the technology sector: a single player takes it all (Amazon, AirBnB, Uber, ...) \n",
    "\n",
    "Why not for us?"
   ]
  },
  {
   "cell_type": "markdown",
   "metadata": {
    "slideshow": {
     "slide_type": "fragment"
    }
   },
   "source": [
    "Let's reimplement everything in ~~C++~~, ~~Magma~~, ~~GAP~~, ~~Sage~~, your favorite system\n",
    "- Ok for a quick focused result<br>\n",
    "  Maybe that's what I should have done, actually\n",
    "- Does not scale, due to time scale and man power:<br>\n",
    "  our software are the result of decades of hard work and deep expertise\n",
    "- Promotes competition between systems:<br>\n",
    "  competition for users, developers, resources<br>\n",
    "  => beaucoup de dégats"
   ]
  },
  {
   "cell_type": "markdown",
   "metadata": {
    "slideshow": {
     "slide_type": "slide"
    }
   },
   "source": [
    "### Balthazar's tool box"
   ]
  },
  {
   "cell_type": "code",
   "execution_count": 1,
   "metadata": {
    "slideshow": {
     "slide_type": "fragment"
    }
   },
   "outputs": [
    {
     "data": {
      "text/html": [
       "\n",
       "<style>\n",
       "  I.logo::before{content:url(./pictures/logo-odk.png)}\n",
       "  .modular {\n",
       "      color: #ff0000;\n",
       "  }\n",
       "  .semigroup {\n",
       "      color: #0000ff;\n",
       "  }\n",
       "  .sym {\n",
       "      color: #009900;\n",
       "  }\n",
       "</style>\n"
      ],
      "text/plain": [
       "<IPython.core.display.HTML object>"
      ]
     },
     "metadata": {},
     "output_type": "display_data"
    }
   ],
   "source": [
    "import sage_annotations\n",
    "from mygap import mygap\n",
    "mygap.LoadPackage(\"Semigroups\");\n",
    "\n",
    "import sage_semigroups\n",
    "import sage_combinat_widgets\n",
    "\n",
    "from   sage_explorer import explore\n",
    "from sage_explorer.sage_explorer import Settings\n",
    "Settings.add_property('cardinality', predicate=Groups().Finite().__contains__)\n",
    "Settings.add_property('conjugacy_classes', predicate=Groups().Finite().__contains__)\n",
    "Settings.add_property('multiplication_table', predicate=Groups().Finite().__contains__)\n",
    "\n",
    "%display unicode_art\n",
    "tensor.symbol = \" ⊗ \"\n",
    "%run style/odk.py"
   ]
  },
  {
   "cell_type": "markdown",
   "metadata": {
    "slideshow": {
     "slide_type": "subslide"
    }
   },
   "source": [
    "#### <span class=semigroup>Semigroup theory</a>"
   ]
  },
  {
   "cell_type": "code",
   "execution_count": 2,
   "metadata": {
    "slideshow": {
     "slide_type": "fragment"
    }
   },
   "outputs": [],
   "source": [
    "T5 = mygap.FullTransformationSemigroup(5)"
   ]
  },
  {
   "cell_type": "code",
   "execution_count": 4,
   "metadata": {
    "slideshow": {
     "slide_type": "fragment"
    }
   },
   "outputs": [],
   "source": [
    "T3 = mygap.FullTransformationSemigroup(3)\n",
    "graph = T3.cayley_graph()\n",
    "graph.set_latex_options(format=\"dot2tex\")\n",
    "view(graph)"
   ]
  },
  {
   "cell_type": "code",
   "execution_count": 5,
   "metadata": {
    "slideshow": {
     "slide_type": "skip"
    }
   },
   "outputs": [
    {
     "ename": "ModuleNotFoundError",
     "evalue": "No module named 'francy_widget'",
     "output_type": "error",
     "traceback": [
      "\u001b[0;31m---------------------------------------------------------------------------\u001b[0m",
      "\u001b[0;31mModuleNotFoundError\u001b[0m                       Traceback (most recent call last)",
      "\u001b[0;32m<ipython-input-5-d78935e65cc4>\u001b[0m in \u001b[0;36m<module>\u001b[0;34m()\u001b[0m\n\u001b[0;32m----> 1\u001b[0;31m \u001b[0;32mfrom\u001b[0m \u001b[0mfrancy_widget\u001b[0m \u001b[0;32mimport\u001b[0m \u001b[0mFrancyWidget\u001b[0m\u001b[0;34m\u001b[0m\u001b[0;34m\u001b[0m\u001b[0m\n\u001b[0m\u001b[1;32m      2\u001b[0m \u001b[0;32mfrom\u001b[0m \u001b[0mnetworkx\u001b[0m \u001b[0;32mimport\u001b[0m \u001b[0mDiGraph\u001b[0m\u001b[0;34m\u001b[0m\u001b[0;34m\u001b[0m\u001b[0m\n\u001b[1;32m      3\u001b[0m \u001b[0mg\u001b[0m \u001b[0;34m=\u001b[0m \u001b[0mDiGraph\u001b[0m\u001b[0;34m(\u001b[0m\u001b[0;34m)\u001b[0m\u001b[0;34m\u001b[0m\u001b[0;34m\u001b[0m\u001b[0m\n\u001b[1;32m      4\u001b[0m \u001b[0mg\u001b[0m\u001b[0;34m.\u001b[0m\u001b[0madd_edges_from\u001b[0m\u001b[0;34m(\u001b[0m\u001b[0;34m[\u001b[0m\u001b[0;34m(\u001b[0m\u001b[0me\u001b[0m\u001b[0;34m[\u001b[0m\u001b[0mInteger\u001b[0m\u001b[0;34m(\u001b[0m\u001b[0;36m0\u001b[0m\u001b[0;34m)\u001b[0m\u001b[0;34m]\u001b[0m\u001b[0;34m,\u001b[0m \u001b[0me\u001b[0m\u001b[0;34m[\u001b[0m\u001b[0mInteger\u001b[0m\u001b[0;34m(\u001b[0m\u001b[0;36m1\u001b[0m\u001b[0;34m)\u001b[0m\u001b[0;34m]\u001b[0m\u001b[0;34m)\u001b[0m \u001b[0;32mfor\u001b[0m \u001b[0me\u001b[0m \u001b[0;32min\u001b[0m \u001b[0mgraph\u001b[0m\u001b[0;34m.\u001b[0m\u001b[0medges\u001b[0m\u001b[0;34m(\u001b[0m\u001b[0;34m)\u001b[0m\u001b[0;34m]\u001b[0m\u001b[0;34m)\u001b[0m\u001b[0;34m\u001b[0m\u001b[0;34m\u001b[0m\u001b[0m\n\u001b[1;32m      5\u001b[0m \u001b[0mFrancyWidget\u001b[0m\u001b[0;34m(\u001b[0m\u001b[0mg\u001b[0m\u001b[0;34m)\u001b[0m\u001b[0;34m\u001b[0m\u001b[0;34m\u001b[0m\u001b[0m\n",
      "\u001b[0;31mModuleNotFoundError\u001b[0m: No module named 'francy_widget'"
     ]
    }
   ],
   "source": [
    "from francy_widget import FrancyWidget\n",
    "from networkx import DiGraph\n",
    "g = DiGraph()\n",
    "g.add_edges_from([(e[0], e[1]) for e in graph.edges()])\n",
    "FrancyWidget(g)"
   ]
  },
  {
   "cell_type": "code",
   "execution_count": 6,
   "metadata": {
    "slideshow": {
     "slide_type": "fragment"
    }
   },
   "outputs": [
    {
     "data": {
      "text/plain": [
       "3125"
      ]
     },
     "execution_count": 6,
     "metadata": {},
     "output_type": "execute_result"
    }
   ],
   "source": [
    "T5.cardinality()"
   ]
  },
  {
   "cell_type": "code",
   "execution_count": 7,
   "metadata": {
    "slideshow": {
     "slide_type": "fragment"
    }
   },
   "outputs": [
    {
     "name": "stdout",
     "output_type": "stream",
     "text": [
      "<Green's D-class: IdentityTransformation>\n",
      "<Green's D-class: Transformation( [ 1, 2, 3, 4, 1 ] )>\n",
      "<Green's D-class: Transformation( [ 1, 1, 2, 3, 1 ] )>\n",
      "<Green's D-class: Transformation( [ 3, 1, 3, 1, 3 ] )>\n",
      "<Green's D-class: Transformation( [ 1, 1, 1, 1, 1 ] )>\n"
     ]
    }
   ],
   "source": [
    "d_classes = T5.d_classes()\n",
    "for d_class in d_classes:\n",
    "    print(d_class)"
   ]
  },
  {
   "cell_type": "code",
   "execution_count": 8,
   "metadata": {
    "slideshow": {
     "slide_type": "fragment"
    }
   },
   "outputs": [
    {
     "data": {
      "text/plain": [
       "Group([ (1,2,3,4), (1,2) ])"
      ]
     },
     "execution_count": 8,
     "metadata": {},
     "output_type": "execute_result"
    }
   ],
   "source": [
    "G = d_classes[1].schutzenberger_group()\n",
    "G"
   ]
  },
  {
   "cell_type": "code",
   "execution_count": 8,
   "metadata": {
    "slideshow": {
     "slide_type": "fragment"
    }
   },
   "outputs": [
    {
     "data": {
      "text/plain": [
       "Group([ (1,2,3,4), (1,2) ])"
      ]
     },
     "execution_count": 8,
     "metadata": {},
     "output_type": "execute_result"
    }
   ],
   "source": [
    "G = d_classes[1].schutzenberger_group()\n",
    "G"
   ]
  },
  {
   "cell_type": "markdown",
   "metadata": {
    "slideshow": {
     "slide_type": "subslide"
    }
   },
   "source": [
    "#### <span class=modular>Modular representation of groups</span>"
   ]
  },
  {
   "cell_type": "code",
   "execution_count": 9,
   "metadata": {
    "slideshow": {
     "slide_type": "fragment"
    }
   },
   "outputs": [
    {
     "data": {
      "text/plain": [
       "[ (2), (2) ]"
      ]
     },
     "metadata": {},
     "output_type": "display_data"
    },
    {
     "data": {
      "text/plain": [
       "[ (1), (1) ]"
      ]
     },
     "metadata": {},
     "output_type": "display_data"
    },
    {
     "data": {
      "text/plain": [
       "⎡ ⎛2 2 0⎞  ⎛2 0 0⎞ ⎤\n",
       "⎢ ⎜2 1 0⎟  ⎜0 2 2⎟ ⎥\n",
       "⎣ ⎝0 1 1⎠, ⎝0 0 1⎠ ⎦"
      ]
     },
     "metadata": {},
     "output_type": "display_data"
    },
    {
     "data": {
      "text/plain": [
       "⎡ ⎛0 1 2⎞  ⎛2 2 0⎞ ⎤\n",
       "⎢ ⎜2 2 1⎟  ⎜0 1 0⎟ ⎥\n",
       "⎣ ⎝2 2 0⎠, ⎝0 0 1⎠ ⎦"
      ]
     },
     "metadata": {},
     "output_type": "display_data"
    }
   ],
   "source": [
    "reps = G.irreducible_representations(GF(3))\n",
    "for rho in reps:\n",
    "    display([matrix(rho(g).gap()) for g in G.group_generators()])"
   ]
  },
  {
   "cell_type": "code",
   "execution_count": 10,
   "metadata": {
    "slideshow": {
     "slide_type": "fragment"
    }
   },
   "outputs": [
    {
     "data": {
      "text/plain": [
       "True"
      ]
     },
     "execution_count": 10,
     "metadata": {},
     "output_type": "execute_result"
    }
   ],
   "source": [
    "all( [ rho(g)*rho(h) == rho(g*h) for g in G for h in G ] )"
   ]
  },
  {
   "cell_type": "markdown",
   "metadata": {
    "slideshow": {
     "slide_type": "subslide"
    }
   },
   "source": [
    "#### Sage-GAP lightweight Math-in-the-Middle interface"
   ]
  },
  {
   "cell_type": "markdown",
   "metadata": {
    "slideshow": {
     "slide_type": "fragment"
    }
   },
   "source": [
    "##### In action"
   ]
  },
  {
   "cell_type": "code",
   "execution_count": 11,
   "metadata": {
    "slideshow": {
     "slide_type": "fragment"
    }
   },
   "outputs": [
    {
     "data": {
      "text/plain": [
       "Algebra of <full transformation monoid of degree 5> over Rational Field"
      ]
     },
     "execution_count": 11,
     "metadata": {},
     "output_type": "execute_result"
    }
   ],
   "source": [
    "A = T5.algebra(QQ); A"
   ]
  },
  {
   "cell_type": "code",
   "execution_count": 12,
   "metadata": {
    "slideshow": {
     "slide_type": "fragment"
    }
   },
   "outputs": [
    {
     "data": {
      "text/plain": [
       "58*B                                    + 74*\n",
       "    Transformation( [ 4, 5, 1, 2, 3 ] )      \n",
       "\n",
       "B                                    + 76*1 + 72*\n",
       " Transformation( [ 3, 4, 5, 1, 2 ] )             \n",
       "\n",
       "B                                    + 63*B\n",
       " Transformation( [ 2, 3, 4, 5, 1 ] )       Transformation( [ 5, 1, 2, 3, 4 ] )"
      ]
     },
     "execution_count": 12,
     "metadata": {},
     "output_type": "execute_result"
    }
   ],
   "source": [
    "A.an_element() ^ 3"
   ]
  },
  {
   "cell_type": "markdown",
   "metadata": {
    "slideshow": {
     "slide_type": "fragment"
    }
   },
   "source": [
    "##### How it works\n",
    "- Enriched libgap handles with\n",
    "- Semantic carried over using\n",
    "- Alignments provided as annotations\n",
    "```python\n",
    "    @semantic(mmt=\"Group\", variant=\"multiplicative\")\n",
    "    class Groups:\n",
    "\n",
    "        class ParentMethods:\n",
    "\n",
    "            @semantic(gap=\"GeneratorsOfGroup\", codomain=Family[Self])\n",
    "            @abstract_method\n",
    "            def group_generators(self):\n",
    "                pass\n",
    "```"
   ]
  },
  {
   "cell_type": "markdown",
   "metadata": {
    "slideshow": {
     "slide_type": "slide"
    }
   },
   "source": [
    "#### Exploring"
   ]
  },
  {
   "cell_type": "code",
   "execution_count": 13,
   "metadata": {
    "scrolled": false,
    "slideshow": {
     "slide_type": "fragment"
    }
   },
   "outputs": [
    {
     "data": {
      "application/vnd.jupyter.widget-view+json": {
       "model_id": "528c06b5d9794c8a91aa36197fa1f9b8",
       "version_major": 2,
       "version_minor": 0
      },
      "text/plain": [
       "SageExplorer(children=(VBox(children=(ExplorerTitle(children=(MathTitle(value='Exploring: Group([ (1,2,3,4), (…"
      ]
     },
     "metadata": {},
     "output_type": "display_data"
    }
   ],
   "source": [
    "explore(G)"
   ]
  },
  {
   "cell_type": "markdown",
   "metadata": {
    "slideshow": {
     "slide_type": "subslide"
    }
   },
   "source": [
    "#### <span class=sym>Combinatorial Representation Theory of $\\mathfrak S_n$</sym>"
   ]
  },
  {
   "cell_type": "code",
   "execution_count": 12,
   "metadata": {
    "slideshow": {
     "slide_type": "fragment"
    }
   },
   "outputs": [
    {
     "data": {
      "text/plain": [
       "┌───┬───┬───┬────┐\n",
       "│ 1 │ 3 │ 6 │ 10 │\n",
       "├───┼───┼───┴────┘\n",
       "│ 2 │ 5 │\n",
       "├───┼───┤\n",
       "│ 4 │ 9 │\n",
       "├───┼───┘\n",
       "│ 7 │\n",
       "├───┤\n",
       "│ 8 │\n",
       "└───┘"
      ]
     },
     "execution_count": 12,
     "metadata": {},
     "output_type": "execute_result"
    }
   ],
   "source": [
    "StandardTableaux(10).random_element()"
   ]
  },
  {
   "cell_type": "code",
   "execution_count": 15,
   "metadata": {
    "slideshow": {
     "slide_type": "fragment"
    }
   },
   "outputs": [],
   "source": [
    "Sym = SymmetricFunctions(QQ['t']);\n",
    "s = Sym.s()"
   ]
  },
  {
   "cell_type": "code",
   "execution_count": 16,
   "metadata": {
    "slideshow": {
     "slide_type": "fragment"
    }
   },
   "outputs": [
    {
     "data": {
      "text/plain": [
       "1 ⊗ s     + s   ⊗ s    + s   ⊗ s     + s   ⊗ s    + s    ⊗ s   + s    ⊗ s    + \n",
       "     ┌┬┬┐    ┌┐    ┌┬┐    ┌┐    ┌┬┬┐    ┌┐    ┌┬┐    ┌┬┐    ┌┐    ┌┬┐    ┌┬┐   \n",
       "     ├┼┴┘    └┘    ├┼┘    └┘    └┴┴┘    ├┤    └┴┘    └┴┘    ├┤    └┴┘    └┴┘   \n",
       "     └┘            └┘                   └┘                  └┘                 \n",
       "\n",
       "s    ⊗ s   + s     ⊗ s   + s     ⊗ 1\n",
       " ┌┬┐    ┌┐    ┌┬┬┐    ┌┐    ┌┬┬┐   \n",
       " ├┼┘    └┘    └┴┴┘    └┘    ├┼┴┘   \n",
       " └┘                         └┘     "
      ]
     },
     "execution_count": 16,
     "metadata": {},
     "output_type": "execute_result"
    }
   ],
   "source": [
    "s[3,1].coproduct()"
   ]
  },
  {
   "cell_type": "code",
   "execution_count": 17,
   "metadata": {
    "slideshow": {
     "slide_type": "fragment"
    }
   },
   "outputs": [
    {
     "data": {
      "application/vnd.jupyter.widget-view+json": {
       "model_id": "be1c49bcf9bd4425b5fb7bce200d0943",
       "version_major": 2,
       "version_minor": 0
      },
      "text/plain": [
       "Interactive function <function f at 0x7f5f6aa9eea0> with 1 widget\n",
       "  p1: GridViewWidget(value=[2, 1], children=…"
      ]
     },
     "metadata": {},
     "output_type": "display_data"
    }
   ],
   "source": [
    "@interact\n",
    "def f(p1 = Partition([2,1])._widget_()):\n",
    "      return s[p1].coproduct()"
   ]
  },
  {
   "cell_type": "markdown",
   "metadata": {
    "slideshow": {
     "slide_type": "subslide"
    }
   },
   "source": [
    "#### <span class=modular>Modular</span> combinatorial representation theory of <span class=sym>$\\mathfrak S_n$</a>"
   ]
  },
  {
   "cell_type": "code",
   "execution_count": 18,
   "metadata": {
    "slideshow": {
     "slide_type": "fragment"
    }
   },
   "outputs": [
    {
     "data": {
      "text/plain": [
       "⎡   .  .  0  0  0    .  .  1  0  0    .  .  0  0  0 ⎤\n",
       "⎢   .  0  0  2       .  0  0  0       .  1  0  1    ⎥\n",
       "⎣   1  0  1      ,   1  0  2      ,   2  0  0       ⎦"
      ]
     },
     "execution_count": 18,
     "metadata": {},
     "output_type": "execute_result"
    }
   ],
   "source": [
    "list(RibbonTableaux([[5,4,3],[2,1]], [2,1], 3))"
   ]
  },
  {
   "cell_type": "code",
   "execution_count": 19,
   "metadata": {
    "slideshow": {
     "slide_type": "fragment"
    }
   },
   "outputs": [
    {
     "data": {
      "text/plain": [
       "level 3 LLT polynomials over Univariate Polynomial Ring in t over Rational Field"
      ]
     },
     "execution_count": 19,
     "metadata": {},
     "output_type": "execute_result"
    }
   ],
   "source": [
    "Sym.llt(3)"
   ]
  },
  {
   "cell_type": "markdown",
   "metadata": {
    "slideshow": {
     "slide_type": "subslide"
    }
   },
   "source": [
    "### What it took to get there; lessons learned the hard way"
   ]
  },
  {
   "cell_type": "markdown",
   "metadata": {
    "slideshow": {
     "slide_type": "subslide"
    }
   },
   "source": [
    "#### Example: Interface to GAP\n",
    "\n",
    "- **Once upon a time:** no interface from my favorite system (MuPAD)\n",
    "- **2008:** Sage, with it's text interface to GAP!<br>\n",
    "  Caveats:\n",
    "  - too slow for low-granularity computation\n",
    "  - monolithic adapters: only groups can be used as native groups\n",
    "- **2012:** Sage's libgap: C-level interface to calling GAP! (Volker Braun et al.)<br>\n",
    "  Caveat: a patched version of GAP\n",
    "  - hard to maintain\n",
    "  - hard to package\n",
    "  - binary incompatible: $\\Longrightarrow$ no kernel modules $\\Longrightarrow$ no Semigroups\n",
    "- **2018-2019:** GAP's libgap (Alex Konovolov, Max Horn, Markus Pfeiffer Erik Bray, Dima Pasechnik, Sebastian Gutsche, ...)<br>\n",
    "- **2018** OSCAR: fast bidirectional calls between GAP and Julia (Sebastian Gutsche et al.)\n",
    "- **2015-:** Semantic interface to GAP (T. et al.)<br>\n",
    "  Prototype; needs maturation and users to expand its scope"
   ]
  },
  {
   "cell_type": "markdown",
   "metadata": {
    "slideshow": {
     "slide_type": "subslide"
    }
   },
   "source": [
    "#### Example: Interface to Semigroupe / libsemigroups\n",
    "- **Once upon a time**: Semigroupe by Jean-Éric Pin\n",
    "- **2010**: Cython bindings (T. et al.)<br>\n",
    "  Caveats:\n",
    "  - Semigroupe designed as standalone system. Global variable and single semigroup<br>\n",
    "  $\\Longrightarrow$ Never made its way into SageMath\n",
    "- **2016-**: libsemigroups ( et al.)\n",
    "- **2017**: Cython bindings (James Mitchell et T.)<br>\n",
    "  Caveat: too much work to maintain\n",
    "- **2018**: cppyy bindings<br>\n",
    "  Caveat: cppyy not yet mature enough\n",
    "- **2017-2020**: libsemigroups maturation (James Mitchel with help from Florent Hivert, T.:<br>\n",
    "  API, build system, packaging, ...\n",
    "- **2019**: libsemigroups+Semigroups packaged in Sage (Dima Pasechnik)\n",
    "- **2020**: libsemigroups directly usable in Sage via cppyy!<br>"
   ]
  },
  {
   "cell_type": "markdown",
   "metadata": {
    "slideshow": {
     "slide_type": "subslide"
    }
   },
   "source": [
    "###  Promoting an ecosystem of interoperable software\n",
    "- A place where software pieces can emerge, live, compete, and die when they are superseeded or not used anymore, without drowning down years of work\n",
    "- A place that fosters new ideas, and competition at the granularity of ideas\n",
    "- A place that fosters collaboration between people and communities"
   ]
  },
  {
   "cell_type": "markdown",
   "metadata": {
    "slideshow": {
     "slide_type": "subslide"
    }
   },
   "source": [
    "### Best practices"
   ]
  },
  {
   "cell_type": "markdown",
   "metadata": {
    "slideshow": {
     "slide_type": "subslide"
    }
   },
   "source": [
    "#### (Re)Designing our systems to be good citizens of the ecosystem\n",
    "- Free Software\n",
    "- Tests and continuous integration\n",
    "- Mainstream build and installation system\n",
    "- Mainstream development workflow\n",
    "- Packaging (conda, linux packages, ...)\n",
    "- Reduced coupling with dependencies\n",
    "- Well defined low level API\n",
    "- Exposing the semantic"
   ]
  },
  {
   "cell_type": "markdown",
   "metadata": {
    "slideshow": {
     "slide_type": "subslide"
    }
   },
   "source": [
    "#### Externalize and share solutions to common needs\n",
    "- E.g. Jupyter as user interface / interactive environment\n",
    "\n",
    "Shameless plug:\n",
    "- Session: The Jupyter environment for interactive computational mathematics?<br>\n",
    "  International Congress for Mathematical Software<br>\n",
    "  Braunschweig, 13-16 July, 2020<br>\n",
    "  Call for speakers!"
   ]
  },
  {
   "cell_type": "markdown",
   "metadata": {
    "slideshow": {
     "slide_type": "fragment"
    }
   },
   "source": [
    "#### Externalize reusable specialized high performance libraries\n",
    "- Limited scope\n",
    "- Simple API"
   ]
  },
  {
   "cell_type": "markdown",
   "metadata": {
    "slideshow": {
     "slide_type": "fragment"
    }
   },
   "source": [
    "#### Interfaces\n",
    "\n",
    "- Language-level interface:\n",
    "  - full feature access to the other system via remote function calls and handles\n",
    "  - performance\n",
    "- Semantic interface:\n",
    "  - Automatic conversion of objects\n",
    "  - Adapter"
   ]
  },
  {
   "cell_type": "markdown",
   "metadata": {
    "slideshow": {
     "slide_type": "fragment"
    }
   },
   "source": [
    "#### Research Software Engineers"
   ]
  },
  {
   "cell_type": "markdown",
   "metadata": {
    "slideshow": {
     "slide_type": "fragment"
    }
   },
   "source": [
    "#### Large scale collaboration\n",
    "- Regular joint workshops\n",
    "- Joint projects\n",
    "- COST network?"
   ]
  }
 ],
 "metadata": {
  "celltoolbar": "Diaporama",
  "kernelspec": {
   "display_name": "SageMath 9.0",
   "language": "sage",
   "name": "sagemath"
  },
  "language_info": {
   "codemirror_mode": {
    "name": "ipython",
    "version": 3
   },
   "file_extension": ".py",
   "mimetype": "text/x-python",
   "name": "python",
   "nbconvert_exporter": "python",
   "pygments_lexer": "ipython3",
   "version": "3.7.3"
  },
  "toc": {
   "base_numbering": 1,
   "nav_menu": {},
   "number_sections": true,
   "sideBar": true,
   "skip_h1_title": false,
   "title_cell": "Table of Contents",
   "title_sidebar": "Contents",
   "toc_cell": false,
   "toc_position": {},
   "toc_section_display": true,
   "toc_window_display": false
  },
  "varInspector": {
   "cols": {
    "lenName": 16,
    "lenType": 16,
    "lenVar": 40
   },
   "kernels_config": {
    "python": {
     "delete_cmd_postfix": "",
     "delete_cmd_prefix": "del ",
     "library": "var_list.py",
     "varRefreshCmd": "print(var_dic_list())"
    },
    "r": {
     "delete_cmd_postfix": ") ",
     "delete_cmd_prefix": "rm(",
     "library": "var_list.r",
     "varRefreshCmd": "cat(var_dic_list()) "
    }
   },
   "types_to_exclude": [
    "module",
    "function",
    "builtin_function_or_method",
    "instance",
    "_Feature"
   ],
   "window_display": false
  }
 },
 "nbformat": 4,
 "nbformat_minor": 2
}
