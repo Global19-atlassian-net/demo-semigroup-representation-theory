{
 "cells": [
  {
   "cell_type": "markdown",
   "metadata": {
    "slideshow": {
     "slide_type": "slide"
    }
   },
   "source": [
    "# Musing on implementing semigroup representation theory and software integration\n",
    "$\\newcommand{\\K}{\\mathbb{K}}$\n",
    "<img src=\"pictures/banner.png\" align=\"right\" width=\"55%\" style=\"opacity:0.5;filter:alpha(opacity=40);\"/>\n",
    "\n",
    "Nicolas M. Thiéry<br>\n",
    "LRI, Université Paris Sud\n",
    "\n",
    "Run this live on binder: https://tinyurl.com/swavl3h\n",
    "<a href=\"https://mybinder.org/v2/gh/OpenDreamKit/demo-semigroup-representation-theory/master?filepath=2020-01-18-INI-implementing-semigroup-representation-theory.ipynb\">\n",
    "<img src=\"pictures/2020-01-18-INI-implementing-semigroup-representation-theory.qrcode.png\" width=\"25%\"></a>\n",
    "\n",
    "<img src=\"pictures/Flag_of_Europe.svg\"   width=\"10%\" align=\"left\">\n",
    "<img src=\"pictures/odk-elected-logo.svg\" width=\"6%\" align=\"right\">\n"
   ]
  },
  {
   "cell_type": "markdown",
   "metadata": {
    "heading_collapsed": true,
    "slideshow": {
     "slide_type": "notes"
    }
   },
   "source": [
    "## Abstract\n",
    "\n",
    "Extending representation theory from finite groups to finite\n",
    "semigroups brings interesting challenges, combinatorics, and\n",
    "applications. Almost a decade ago, I proposed an algorithm to compute\n",
    "the Cartan Matrix of a semigroup algebra -- a combinatorial invariant\n",
    "that contains information on how projective modules are built from\n",
    "simple modules. It boils down to computing with finite semigroups,\n",
    "characters of groups, and combinatorics. Despite this relative\n",
    "simplicity, and much to my embarrassment, a full production-grade\n",
    "implementation is just barely in reach.\n",
    "\n",
    "In this talk, I'll muse on the long road I took, exploring alongside\n",
    "many colleagues ways to compose existing software (here in C++, GAP,\n",
    "Sage) and organize community development aiming at flexibility,\n",
    "performance, ease of deployment, and sustainability. I will also\n",
    "briefly report on ongoing joint work with my PhD student Balthazar\n",
    "Charles to adapt the algorithm to modular representations."
   ]
  },
  {
   "cell_type": "markdown",
   "metadata": {
    "slideshow": {
     "slide_type": "slide"
    }
   },
   "source": [
    "## Main thread of the talk\n",
    "\n",
    "Balthazar is starting a PhD in <span class=\"modular\">modular</span> representation theory of <span class=\"semigroup\">semigroups</span>"
   ]
  },
  {
   "cell_type": "markdown",
   "metadata": {
    "slideshow": {
     "slide_type": "fragment"
    }
   },
   "source": [
    "### Mathematical landscape"
   ]
  },
  {
   "cell_type": "markdown",
   "metadata": {
    "slideshow": {
     "slide_type": "fragment"
    }
   },
   "source": [
    "- Representation theory of groups: a grand old topic; 10k+ papers in a century \n",
    "- Representation theory of the <span class=sym>symmetric group $\\mathfrak{S}_n$</span>: beautiful combinatorics"
   ]
  },
  {
   "cell_type": "markdown",
   "metadata": {
    "slideshow": {
     "slide_type": "fragment"
    }
   },
   "source": [
    "- <span class=modular>Modular</span> representation theory of groups: 1k+ papers in the past 50 years"
   ]
  },
  {
   "cell_type": "markdown",
   "metadata": {
    "slideshow": {
     "slide_type": "fragment"
    }
   },
   "source": [
    "- Representation theory of <span class=semigroup>semigroups</span>: dozens of papers in the last decades"
   ]
  },
  {
   "cell_type": "markdown",
   "metadata": {
    "slideshow": {
     "slide_type": "fragment"
    }
   },
   "source": [
    "- Motto of <span class=semigroup>semigroup theory</span>: reduce to **group theory** and **combinatorics**"
   ]
  },
  {
   "cell_type": "markdown",
   "metadata": {
    "slideshow": {
     "slide_type": "fragment"
    }
   },
   "source": [
    "### Strategy"
   ]
  },
  {
   "cell_type": "markdown",
   "metadata": {
    "slideshow": {
     "slide_type": "fragment"
    }
   },
   "source": [
    "- Implement an algorithm of 2010 in full generality<br>\n",
    "  <span class=semigroup>Computing the Cartan invariants matrix of a semigroup</span>\n",
    "- Adapt this algorithm to the <span class=modular>modular</modular> case\n",
    "- Explore the representation theory of the <span class=sym>transformation semigroup $T_n$</span>: beautiful combinatorics?"
   ]
  },
  {
   "cell_type": "markdown",
   "metadata": {
    "slideshow": {
     "slide_type": "slide"
    }
   },
   "source": [
    "## The mathematical landscape"
   ]
  },
  {
   "cell_type": "markdown",
   "metadata": {
    "slideshow": {
     "slide_type": "fragment"
    }
   },
   "source": [
    "### Semigroup theory perspective\n",
    "- Groups as perfect circles"
   ]
  },
  {
   "cell_type": "markdown",
   "metadata": {
    "slideshow": {
     "slide_type": "fragment"
    }
   },
   "source": [
    "- The imperfection of semigroups: what happens when you can't always run in circle?"
   ]
  },
  {
   "cell_type": "markdown",
   "metadata": {
    "slideshow": {
     "slide_type": "fragment"
    }
   },
   "source": [
    "- Irreversible steps, **ideals** (left and right)"
   ]
  },
  {
   "cell_type": "markdown",
   "metadata": {
    "slideshow": {
     "slide_type": "fragment"
    }
   },
   "source": [
    "- Invertibility lost. All hopes for structure lost?"
   ]
  },
  {
   "cell_type": "markdown",
   "metadata": {
    "slideshow": {
     "slide_type": "fragment"
    }
   },
   "source": [
    "- May the Associativity be with you:  **J-classes**, **eggbox picture**"
   ]
  },
  {
   "cell_type": "markdown",
   "metadata": {
    "slideshow": {
     "slide_type": "subslide"
    }
   },
   "source": [
    "### Why bother?\n",
    "\n",
    "- Representation theory: also a tool for studying processes<br>\n",
    "  Example: Splitting the state space of a large discrete Markov chain\n",
    "\n",
    "- Life is imperfect: many processes have irreversible steps!"
   ]
  },
  {
   "cell_type": "markdown",
   "metadata": {
    "slideshow": {
     "slide_type": "fragment"
    }
   },
   "source": [
    "**Example:** the Tsetlin library\n",
    "\n",
    "<img src=\"pictures/tsetlin-library.png\" width=40% align=\"right\">\n",
    "\n",
    "- Beautiful eigenvalues!\n",
    "- Explanation: very irreversible process<br> $\\Longrightarrow$ basic representation theory"
   ]
  },
  {
   "cell_type": "markdown",
   "metadata": {
    "slideshow": {
     "slide_type": "subslide"
    }
   },
   "source": [
    "### There are other angels\n",
    "\n",
    "<img src=\"pictures/monoidClasses.svg\" align=\"center\" width=\"50%\">\n",
    "\n",
    "**Motto**: reduce to the angels: group theory, combinatorics, linear algebra"
   ]
  },
  {
   "cell_type": "markdown",
   "metadata": {
    "slideshow": {
     "slide_type": "subslide"
    }
   },
   "source": [
    "### Representation theory of semigroups, in a nutshell"
   ]
  },
  {
   "cell_type": "markdown",
   "metadata": {
    "slideshow": {
     "slide_type": "fragment"
    }
   },
   "source": [
    "- Not semi-simple: simple ≠ indecomposable"
   ]
  },
  {
   "cell_type": "markdown",
   "metadata": {
    "slideshow": {
     "slide_type": "fragment"
    }
   },
   "source": [
    "- **Composition factors**"
   ]
  },
  {
   "cell_type": "markdown",
   "metadata": {
    "slideshow": {
     "slide_type": "fragment"
    }
   },
   "source": [
    "- Construction of simple modules: induced from the simple modules of the groupes"
   ]
  },
  {
   "cell_type": "markdown",
   "metadata": {
    "slideshow": {
     "slide_type": "fragment"
    }
   },
   "source": [
    "- Character theory: trace of the action of conjugacy class representatives<br>\n",
    "  $\\Longrightarrow$ tool to recover composition factors"
   ]
  },
  {
   "cell_type": "markdown",
   "metadata": {
    "slideshow": {
     "slide_type": "fragment"
    }
   },
   "source": [
    "- **Projective indecomposable modules**: “the largest indecomposable modules”"
   ]
  },
  {
   "cell_type": "markdown",
   "metadata": {
    "slideshow": {
     "slide_type": "fragment"
    }
   },
   "source": [
    "- **The Cartan invariants matrix**: composition factors of projective indecomposable modules<br>\n",
    "  $\\Longrightarrow$ a nice source of combinatorics"
   ]
  },
  {
   "cell_type": "markdown",
   "metadata": {
    "slideshow": {
     "slide_type": "slide"
    }
   },
   "source": [
    "### Computing the Cartan Invariant matrix?"
   ]
  },
  {
   "cell_type": "markdown",
   "metadata": {
    "slideshow": {
     "slide_type": "fragment"
    }
   },
   "source": [
    "**Algorithm from finite dimensional algebras:**\n",
    "- Decompose the center of the semisimple quotient (MeatAxe-style)\n",
    "- Recover idempotents\n",
    "- Compute projective modules\n",
    "- Recover composition factors\n",
    "\n",
    "$\\Longrightarrow$ Linear algebra on $\\K S$, if not $End(\\K S)$"
   ]
  },
  {
   "cell_type": "markdown",
   "metadata": {
    "slideshow": {
     "slide_type": "fragment"
    }
   },
   "source": [
    "Intractable for $\\#S = 31103$    (bihecke monoid of type $A_5$)"
   ]
  },
  {
   "cell_type": "markdown",
   "metadata": {
    "slideshow": {
     "slide_type": "fragment"
    }
   },
   "source": [
    "**Basic insight (T. 2010):**\n",
    "- Realize that the Cartan invariant matrix is the character of $\\K S$ as $S$-mod-$S$ bimodule\n",
    "- Computation by characters!"
   ]
  },
  {
   "cell_type": "markdown",
   "metadata": {
    "slideshow": {
     "slide_type": "slide"
    }
   },
   "source": [
    "**Algorithm:**\n",
    "- Compute semigroup structure\n",
    "- Compute conjugacy class representatives $CC=\\uplus_J CC_J$ and character table of $G_J$\n",
    "- Compute the character table of $S$<br>\n",
    "  Probable bottleneck: computing the radical of $\\K R$: $O\\left(\\sum\\#R_J^3\\right)$\n",
    "- Count two sided fixed points for each pair in $CC$ acting on $S$<br>\n",
    "  Complexity: $O\\left(\\#CC^2\\sum_J n_J+ m_J\\right)$ group operations (Charles, Mitchell, T. '20)\n",
    "- Recover the composition factors"
   ]
  },
  {
   "cell_type": "markdown",
   "metadata": {
    "slideshow": {
     "slide_type": "slide"
    }
   },
   "source": [
    "**Pros:**\n",
    "- Embarassingly parallel!\n",
    "- Amenable to modular representations: use Brauer characters"
   ]
  },
  {
   "cell_type": "markdown",
   "metadata": {
    "slideshow": {
     "slide_type": "fragment"
    }
   },
   "source": [
    "**Implementation:**\n",
    "- Good: handles the semigroup of size 31k in one hour\n",
    "- Bad: aperiodic case only so far!"
   ]
  },
  {
   "cell_type": "markdown",
   "metadata": {
    "slideshow": {
     "slide_type": "slide"
    }
   },
   "source": [
    "## Musing on our computational landscape"
   ]
  },
  {
   "cell_type": "markdown",
   "metadata": {
    "slideshow": {
     "slide_type": "slide"
    }
   },
   "source": [
    "### Available building blocks"
   ]
  },
  {
   "cell_type": "markdown",
   "metadata": {
    "slideshow": {
     "slide_type": "fragment"
    }
   },
   "source": [
    "- Group computations: GAP, Magma\n",
    "- Semigroup computations: GAP, Semigroups (GAP), KBMag (C), Semigroupe (C), libsemigroups (C++), Sage\n",
    "- (Modular) representation theory of groups: GAP (but also GAP3+Specht)\n",
    "- Algebraic Combinatorics: Sage, Symmetrica (C), lrcalc (C), ...\n",
    "- Linear algebra: MeatAxe, Linbox, Sage, ...\n",
    "- Coxeter groups: GAP3+Chevie, GAP, Sage, Coxeter3, ...\n",
    "- Markov chains: Mathematica, ..."
   ]
  },
  {
   "cell_type": "markdown",
   "metadata": {
    "slideshow": {
     "slide_type": "fragment"
    }
   },
   "source": [
    "Question: How to proceed?"
   ]
  },
  {
   "cell_type": "markdown",
   "metadata": {
    "slideshow": {
     "slide_type": "subslide"
    }
   },
   "source": [
    "### The Unicorn way: “There can be only one”"
   ]
  },
  {
   "cell_type": "markdown",
   "metadata": {
    "slideshow": {
     "slide_type": "fragment"
    }
   },
   "source": [
    "That's what happens in the tech industry: a single player takes it all (Amazon, AirBnB, Uber, ...) \n",
    "\n",
    "Why not for us?"
   ]
  },
  {
   "cell_type": "markdown",
   "metadata": {
    "slideshow": {
     "slide_type": "fragment"
    }
   },
   "source": [
    "Let's reimplement everything in ~~C++~~, ~~Magma~~, ~~GAP~~, ~~Sage~~, ~~Julia~~, ~~Mathematica~~ your favorite system"
   ]
  },
  {
   "cell_type": "markdown",
   "metadata": {
    "slideshow": {
     "slide_type": "fragment"
    }
   },
   "source": [
    "- Ok for a quick focused result<br>\n",
    "  Maybe that's what I should have done, actually"
   ]
  },
  {
   "cell_type": "markdown",
   "metadata": {
    "slideshow": {
     "slide_type": "fragment"
    }
   },
   "source": [
    "- Does not scale, due to time scale and man power:<br>\n",
    "  our software are the result of decades of hard work and deep expertise"
   ]
  },
  {
   "cell_type": "markdown",
   "metadata": {
    "slideshow": {
     "slide_type": "fragment"
    }
   },
   "source": [
    "- Promotes competition between systems, at the wrong scale"
   ]
  },
  {
   "cell_type": "markdown",
   "metadata": {
    "slideshow": {
     "slide_type": "slide"
    }
   },
   "source": [
    "### Balthazar's tool box"
   ]
  },
  {
   "cell_type": "code",
   "execution_count": null,
   "metadata": {
    "slideshow": {
     "slide_type": "fragment"
    }
   },
   "outputs": [],
   "source": [
    "import sage_annotations\n",
    "from mygap import mygap\n",
    "mygap.LoadPackage(\"Semigroups\");\n",
    "\n",
    "import sage_semigroups\n",
    "import sage_combinat_widgets\n",
    "\n",
    "from   sage_explorer import explore\n",
    "from sage_explorer.sage_explorer import Settings\n",
    "Settings.add_property('cardinality', predicate=Groups().Finite().__contains__)\n",
    "Settings.add_property('conjugacy_classes', predicate=Groups().Finite().__contains__)\n",
    "Settings.add_property('multiplication_table', predicate=Groups().Finite().__contains__)\n",
    "#Partitions.options.convention=\"French\"\n",
    "%display unicode_art\n",
    "tensor.symbol = \" ⊗ \"\n",
    "%run style/odk.py"
   ]
  },
  {
   "cell_type": "markdown",
   "metadata": {
    "slideshow": {
     "slide_type": "subslide"
    }
   },
   "source": [
    "#### <span class=semigroup>Semigroup theory</a>"
   ]
  },
  {
   "cell_type": "code",
   "execution_count": null,
   "metadata": {
    "slideshow": {
     "slide_type": "fragment"
    }
   },
   "outputs": [],
   "source": [
    "T3 = mygap.FullTransformationSemigroup(3)"
   ]
  },
  {
   "cell_type": "code",
   "execution_count": null,
   "metadata": {
    "slideshow": {
     "slide_type": "fragment"
    }
   },
   "outputs": [],
   "source": [
    "graph = T3.cayley_graph()\n",
    "graph.set_latex_options(format=\"dot2tex\")\n",
    "view(graph)"
   ]
  },
  {
   "cell_type": "code",
   "execution_count": null,
   "metadata": {
    "slideshow": {
     "slide_type": "skip"
    }
   },
   "outputs": [],
   "source": [
    "from francy_widget import FrancyWidget\n",
    "from networkx import DiGraph\n",
    "g = DiGraph()\n",
    "g.add_edges_from([(e[0], e[1]) for e in graph.edges()])\n",
    "FrancyWidget(g)"
   ]
  },
  {
   "cell_type": "code",
   "execution_count": null,
   "metadata": {
    "slideshow": {
     "slide_type": "fragment"
    }
   },
   "outputs": [],
   "source": [
    "T5 = mygap.FullTransformationSemigroup(5)"
   ]
  },
  {
   "cell_type": "code",
   "execution_count": null,
   "metadata": {
    "slideshow": {
     "slide_type": "fragment"
    }
   },
   "outputs": [],
   "source": [
    "T5.cardinality()"
   ]
  },
  {
   "cell_type": "code",
   "execution_count": null,
   "metadata": {
    "slideshow": {
     "slide_type": "fragment"
    }
   },
   "outputs": [],
   "source": [
    "d_classes = T5.d_classes()\n",
    "for d_class in d_classes:\n",
    "    print(d_class)"
   ]
  },
  {
   "cell_type": "code",
   "execution_count": null,
   "metadata": {
    "slideshow": {
     "slide_type": "fragment"
    }
   },
   "outputs": [],
   "source": [
    "G = d_classes[1].schutzenberger_group()\n",
    "G"
   ]
  },
  {
   "cell_type": "code",
   "execution_count": null,
   "metadata": {
    "slideshow": {
     "slide_type": "fragment"
    }
   },
   "outputs": [],
   "source": [
    "G = d_classes[1].schutzenberger_group()\n",
    "G"
   ]
  },
  {
   "cell_type": "markdown",
   "metadata": {
    "slideshow": {
     "slide_type": "subslide"
    }
   },
   "source": [
    "#### <span class=modular>Modular representation of groups</span>"
   ]
  },
  {
   "cell_type": "code",
   "execution_count": null,
   "metadata": {
    "slideshow": {
     "slide_type": "fragment"
    }
   },
   "outputs": [],
   "source": [
    "reps = G.irreducible_representations(GF(3))\n",
    "for rho in reps:\n",
    "    display([matrix(rho(g).gap()) for g in G.group_generators()])"
   ]
  },
  {
   "cell_type": "code",
   "execution_count": null,
   "metadata": {
    "slideshow": {
     "slide_type": "fragment"
    }
   },
   "outputs": [],
   "source": [
    "all( [ rho(g)*rho(h) == rho(g*h) for g in G for h in G ] )"
   ]
  },
  {
   "cell_type": "markdown",
   "metadata": {
    "slideshow": {
     "slide_type": "subslide"
    }
   },
   "source": [
    "#### Sage-GAP lightweight Math-in-the-Middle interface"
   ]
  },
  {
   "cell_type": "code",
   "execution_count": null,
   "metadata": {
    "slideshow": {
     "slide_type": "fragment"
    }
   },
   "outputs": [],
   "source": [
    "A = T5.algebra(QQ); A"
   ]
  },
  {
   "cell_type": "code",
   "execution_count": null,
   "metadata": {
    "slideshow": {
     "slide_type": "fragment"
    }
   },
   "outputs": [],
   "source": [
    "A.an_element() ^ 3"
   ]
  },
  {
   "cell_type": "markdown",
   "metadata": {
    "slideshow": {
     "slide_type": "fragment"
    }
   },
   "source": [
    "##### How it works\n",
    "- Enriched libgap handles with\n",
    "- Semantic carried over using\n",
    "- Alignments provided as annotations\n",
    "```python\n",
    "    @semantic(gap=\"Group\", variant=\"multiplicative\")\n",
    "    class Groups:\n",
    "\n",
    "        class ParentMethods:\n",
    "\n",
    "            @semantic(gap=\"GeneratorsOfGroup\", codomain=Family[Self])\n",
    "            @abstract_method\n",
    "            def group_generators(self):\n",
    "                pass\n",
    "```"
   ]
  },
  {
   "cell_type": "markdown",
   "metadata": {
    "slideshow": {
     "slide_type": "slide"
    }
   },
   "source": [
    "#### Exploring"
   ]
  },
  {
   "cell_type": "code",
   "execution_count": null,
   "metadata": {
    "scrolled": false,
    "slideshow": {
     "slide_type": "fragment"
    }
   },
   "outputs": [],
   "source": [
    "explore(G)"
   ]
  },
  {
   "cell_type": "markdown",
   "metadata": {
    "slideshow": {
     "slide_type": "subslide"
    }
   },
   "source": [
    "#### <span class=sym>Combinatorial Representation Theory of $\\mathfrak S_n$</sym>"
   ]
  },
  {
   "cell_type": "code",
   "execution_count": null,
   "metadata": {
    "slideshow": {
     "slide_type": "fragment"
    }
   },
   "outputs": [],
   "source": [
    "StandardTableaux(10).random_element()"
   ]
  },
  {
   "cell_type": "code",
   "execution_count": null,
   "metadata": {
    "slideshow": {
     "slide_type": "fragment"
    }
   },
   "outputs": [],
   "source": [
    "Sym = SymmetricFunctions(QQ['t']);\n",
    "s = Sym.s()"
   ]
  },
  {
   "cell_type": "code",
   "execution_count": null,
   "metadata": {
    "slideshow": {
     "slide_type": "fragment"
    }
   },
   "outputs": [],
   "source": [
    "s[3,1].coproduct()"
   ]
  },
  {
   "cell_type": "code",
   "execution_count": null,
   "metadata": {
    "slideshow": {
     "slide_type": "fragment"
    }
   },
   "outputs": [],
   "source": [
    "@interact\n",
    "def f(p1 = Partition([2,1])._widget_()):\n",
    "      return s[p1].coproduct()"
   ]
  },
  {
   "cell_type": "markdown",
   "metadata": {
    "slideshow": {
     "slide_type": "subslide"
    }
   },
   "source": [
    "#### <span class=modular>Modular</span> combinatorial representation theory of <span class=sym>$\\mathfrak S_n$</a>"
   ]
  },
  {
   "cell_type": "code",
   "execution_count": null,
   "metadata": {
    "slideshow": {
     "slide_type": "fragment"
    }
   },
   "outputs": [],
   "source": [
    "list(RibbonTableaux([[5,4,3],[2,1]], [2,1], 3))"
   ]
  },
  {
   "cell_type": "code",
   "execution_count": null,
   "metadata": {
    "slideshow": {
     "slide_type": "fragment"
    }
   },
   "outputs": [],
   "source": [
    "Sym.llt(3)"
   ]
  },
  {
   "cell_type": "markdown",
   "metadata": {
    "slideshow": {
     "slide_type": "slide"
    }
   },
   "source": [
    "#### Reproducible environment"
   ]
  },
  {
   "cell_type": "code",
   "execution_count": null,
   "metadata": {
    "slideshow": {
     "slide_type": "fragment"
    }
   },
   "outputs": [],
   "source": [
    "# %load Dockerfile\n",
    "# Dockerfile for binder\n",
    "FROM registry.gitlab.com/sagemath/sage/sagemath-dev:9.0-py3\n",
    "\n",
    "RUN sudo apt-get update && sudo apt-get -qy install graphviz build-essential git g++ && sudo apt-get clean\n",
    "RUN sage -i gap_packages && rm -rf /home/sage/sage/upstream\n",
    "RUN sudo apt-get update && sudo apt-get -qq install -y curl \\\n",
    "    &&  curl -sL https://deb.nodesource.com/setup_10.x | sudo -E bash - \\\n",
    "    && sudo apt-get install -yq nodejs && sudo npm install npm@latest -g\n",
    "RUN sage -pip install --no-cache-dir --upgrade ipywidgets\n",
    "RUN sage -pip install --no-cache-dir dot2tex\n",
    "RUN sage -pip install --no-cache-dir RISE\n",
    "RUN sage -pip install --no-cache-dir nbdime\n",
    "#RUN sage -pip install --no-cache-dir cppyy\n",
    "RUN sage -pip install --no-cache-dir git+https://github.com/nthiery/sage-gap-semantic-interface/\n",
    "RUN sage -pip install --no-cache-dir git+https://github.com/nthiery/sage-semigroups/\n",
    "RUN sage -pip install --no-cache-dir git+https://github.com/zerline/francy-widget/\n",
    "RUN sage -pip install --no-cache-dir git+https://github.com/sagemath/sage-combinat-widgets/@develop\n",
    "#RUN sage -pip install --no-cache-dir git+https://github.com/sagemath/sage-combinat-widgets/@master\n",
    "RUN sage -pip install --no-cache-dir git+https://github.com/sagemath/sage-explorer/@develop\n",
    "\n",
    "# Ensure this COPY goes *after* installation of prerequisites; otherwise the\n",
    "# build cache will be invalidated any time we change a file in this repository.\n",
    "COPY --chown=sage:sage . ${HOME}\n",
    "\n",
    "# The sagemath-dev images start in SAGE_ROOT by default so set the user's pwd\n",
    "# back to HOME\n",
    "WORKDIR ${HOME}\n",
    "\n",
    "# The default entrypoint used in the sagemath-dev images does not instantiate a\n",
    "# sage shell, so commands like jupyter don't work; this should be fixed.\n",
    "# upstream to make the sagemath-dev images easier to use with binder\n",
    "ENTRYPOINT [ \"/home/sage/sage/docker/entrypoint.sh\" ]\n"
   ]
  },
  {
   "cell_type": "markdown",
   "metadata": {
    "slideshow": {
     "slide_type": "subslide"
    }
   },
   "source": [
    "### What it took to get there; lessons learned the hard way"
   ]
  },
  {
   "cell_type": "markdown",
   "metadata": {
    "slideshow": {
     "slide_type": "subslide"
    }
   },
   "source": [
    "#### Example: Sage interface to GAP\n",
    "\n",
    "- **Once upon a time:** no interface from my favorite system (MuPAD)\n",
    "- **2008:** Sage, with it's text interface to GAP!<br>\n",
    "  Caveats:\n",
    "  - too slow for low-granularity computation\n",
    "  - monolithic adapters: only groups can be used as native groups\n",
    "- **2012:** Sage's libgap: C-level interface to calling GAP! (Volker Braun et al.)<br>\n",
    "  Caveat: a patched version of GAP\n",
    "  - hard to maintain\n",
    "  - hard to package\n",
    "  - binary incompatible: $\\Longrightarrow$ no kernel modules $\\Longrightarrow$ no Semigroups\n",
    "- **2017-2019:** GAP's libgap (Markus Pfeiffer, Sebastian Gutsche, Max Horn, ...)<br>\n",
    "  Integration in Sage (Erik Bray, ...)<br>\n",
    "- **2018** OSCAR: fast bidirectional calls between GAP and Julia (Sebastian Gutsche et al.)\n",
    "- **2015-:** Semantic interface to GAP (T. et al.)<br>\n",
    "  Prototype; needs maturation and users to expand its scope"
   ]
  },
  {
   "cell_type": "markdown",
   "metadata": {
    "slideshow": {
     "slide_type": "subslide"
    }
   },
   "source": [
    "#### Example: Interface to Semigroupe / libsemigroups\n",
    "- **Once upon a time**: Semigroupe by Jean-Éric Pin\n",
    "- **2010**: Cython bindings (T. et al.)<br>\n",
    "  Caveats:\n",
    "  - Semigroupe designed as standalone system. Global variable and single semigroup<br>\n",
    "  $\\Longrightarrow$ Never made its way into Sage\n",
    "- **2016-**: libsemigroups ( et al.)\n",
    "- **2017**: Cython bindings (James Mitchell et T.)<br>\n",
    "  Caveat: too much work to maintain\n",
    "- **2018**: cppyy bindings<br>\n",
    "  Caveat: cppyy not yet mature enough\n",
    "- **2017-2020**: libsemigroups maturation (James Mitchel with help from Florent Hivert, T.):<br>\n",
    "  API, build system, packaging, ...\n",
    "- **2019**: libsemigroups+Semigroups packaged in Sage (Dima Pasechnik)\n",
    "- **2020**: libsemigroups directly usable in Sage via cppyy!"
   ]
  },
  {
   "cell_type": "markdown",
   "metadata": {
    "slideshow": {
     "slide_type": "fragment"
    }
   },
   "source": [
    "- **Exploring how to push features down the stack!**"
   ]
  },
  {
   "cell_type": "markdown",
   "metadata": {
    "slideshow": {
     "slide_type": "subslide"
    }
   },
   "source": [
    "#### Example: Coordinating H2020 European E-Infrastructure Project OpenDreamKit"
   ]
  },
  {
   "cell_type": "markdown",
   "metadata": {
    "slideshow": {
     "slide_type": "subslide"
    }
   },
   "source": [
    "### Best practices"
   ]
  },
  {
   "cell_type": "markdown",
   "metadata": {
    "slideshow": {
     "slide_type": "subslide"
    }
   },
   "source": [
    "####  Promoting an ecosystem of interoperable software\n",
    "- A place where software pieces can emerge, live, compete, and die when they are superseeded or not used anymore, without drowning down years of work\n",
    "- A place that fosters new ideas, and competition at the granularity of ideas\n",
    "- A place that fosters collaboration between people and communities"
   ]
  },
  {
   "cell_type": "markdown",
   "metadata": {
    "slideshow": {
     "slide_type": "subslide"
    }
   },
   "source": [
    "#### (Re)Designing our systems to be good citizens of the ecosystem\n",
    "- Free Software\n",
    "- Tests and continuous integration\n",
    "- Mainstream build and installation system\n",
    "- Mainstream development workflow\n",
    "- Packaging (conda, linux packages, ...)\n",
    "- Reduced coupling with dependencies\n",
    "- Well defined low level API to interact with the system\n",
    "- Modularity\n",
    "- Exposing the semantic"
   ]
  },
  {
   "cell_type": "markdown",
   "metadata": {
    "slideshow": {
     "slide_type": "fragment"
    }
   },
   "source": [
    "#### Interfaces\n",
    "\n",
    "- Language-level interface:\n",
    "  - Fast comprehensive access to the other system via remote function calls and handles\n",
    "- Aligning the semantic:\n",
    "  - Automatic conversion of objects\n",
    "  - Adapting"
   ]
  },
  {
   "cell_type": "markdown",
   "metadata": {
    "slideshow": {
     "slide_type": "subslide"
    }
   },
   "source": [
    "#### Externalize and share solutions to common needs\n",
    "- Reusable specialized high performance libraries\n",
    "- Development tools\n",
    "- User interface / interactive environment (Jupyter)\n",
    "- Interactive widgets (Francy, ...)"
   ]
  },
  {
   "cell_type": "markdown",
   "metadata": {
    "slideshow": {
     "slide_type": "fragment"
    }
   },
   "source": [
    "Shameless plug:\n",
    "- Session: **The Jupyter environment for interactive computational mathematics**?<br>\n",
    "  International Congress for Mathematical Software<br>\n",
    "  Braunschweig, 13-16 July, 2020<br>\n",
    "  Call for speakers!"
   ]
  },
  {
   "cell_type": "markdown",
   "metadata": {
    "slideshow": {
     "slide_type": "subslide"
    }
   },
   "source": [
    "#### Research Software Engineers\n",
    "- We need software for our research\n",
    "- It's our job as researcher to implement the maths we need\n",
    "- We are killing ourselves with the maintenance and technical work"
   ]
  },
  {
   "cell_type": "markdown",
   "metadata": {
    "slideshow": {
     "slide_type": "fragment"
    }
   },
   "source": [
    "- Can we do something about it?"
   ]
  },
  {
   "cell_type": "markdown",
   "metadata": {
    "slideshow": {
     "slide_type": "fragment"
    }
   },
   "source": [
    "- Lesson learned from OpenDreamKit:<br>\n",
    "  A few **Research Software Engineers** can make a major impact\n",
    "\n",
    "- We need to do something to secure funding and career paths"
   ]
  },
  {
   "cell_type": "markdown",
   "metadata": {
    "slideshow": {
     "slide_type": "slide"
    }
   },
   "source": [
    "#### Large scale collaboration\n",
    "- Constantly coordinating efforts\n",
    "- Regular joint workshops\n",
    "- Joint projects?"
   ]
  },
  {
   "cell_type": "markdown",
   "metadata": {
    "slideshow": {
     "slide_type": "fragment"
    }
   },
   "source": [
    "- Cost network?:  European Cooperation in Science and Technology"
   ]
  },
  {
   "cell_type": "markdown",
   "metadata": {
    "slideshow": {
     "slide_type": "fragment"
    }
   },
   "source": [
    "## Justine Falque\n",
    "\n",
    "<img src=\"pictures/falque.jpg\" width=10% align=\"right\">\n",
    "\n",
    "- Classified infinite permutation groups with polynomial profile\n",
    "- $\\Longrightarrow$ Proof of conjecture of Cameron (1980) and Macpherson (1985)\n",
    "- On the job market for a post-doc!\n"
   ]
  }
 ],
 "metadata": {
  "celltoolbar": "Diaporama",
  "kernelspec": {
   "display_name": "SageMath 9.0",
   "language": "sage",
   "name": "sagemath"
  },
  "language_info": {
   "codemirror_mode": {
    "name": "ipython",
    "version": 3
   },
   "file_extension": ".py",
   "mimetype": "text/x-python",
   "name": "python",
   "nbconvert_exporter": "python",
   "pygments_lexer": "ipython3",
   "version": "3.7.3"
  },
  "rise": {
   "auto_select": "first",
   "autolaunch": true,
   "background-image": "linear-gradient(rgba(255, 255, 255, 0.9), rgba(255, 255, 255, 0.9)), url(../../../public/images/banner.png);",
   "scroll": true,
   "start_slideshow_at": "selected",
   "transition": "none"
  },
  "toc": {
   "base_numbering": 1,
   "nav_menu": {},
   "number_sections": true,
   "sideBar": true,
   "skip_h1_title": false,
   "title_cell": "Table of Contents",
   "title_sidebar": "Contents",
   "toc_cell": false,
   "toc_position": {},
   "toc_section_display": true,
   "toc_window_display": false
  },
  "varInspector": {
   "cols": {
    "lenName": 16,
    "lenType": 16,
    "lenVar": 40
   },
   "kernels_config": {
    "python": {
     "delete_cmd_postfix": "",
     "delete_cmd_prefix": "del ",
     "library": "var_list.py",
     "varRefreshCmd": "print(var_dic_list())"
    },
    "r": {
     "delete_cmd_postfix": ") ",
     "delete_cmd_prefix": "rm(",
     "library": "var_list.r",
     "varRefreshCmd": "cat(var_dic_list()) "
    }
   },
   "types_to_exclude": [
    "module",
    "function",
    "builtin_function_or_method",
    "instance",
    "_Feature"
   ],
   "window_display": false
  }
 },
 "nbformat": 4,
 "nbformat_minor": 2
}
